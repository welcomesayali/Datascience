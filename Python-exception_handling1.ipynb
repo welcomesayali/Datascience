{
 "cells": [
  {
   "cell_type": "markdown",
   "id": "6e3ca37b",
   "metadata": {},
   "source": [
    "\n"
   ]
  },
  {
   "cell_type": "markdown",
   "id": "6ba212bd",
   "metadata": {},
   "source": [
    "Q1. What is an Exception in Python? Difference between Exceptions and Syntax Errors?\n",
    "Exception: An exception is an error that occurs during the execution of a program. It disrupts the normal flow of the program when something unexpected happens (like dividing by zero or trying to open a file that doesn't exist).\n",
    "\n",
    "Syntax Error: A syntax error occurs when Python cannot interpret the code because it doesn’t follow the correct syntax (rules of the language).\n",
    "\n",
    "\n",
    "Exception\tSyntax Error\n",
    "Occurs during program execution (runtime).\tOccurs while parsing the code (before execution).\n",
    "Can be caught and handled using try-except blocks.\tMust be fixed before running the program.\n",
    "Example: 10/0\tExample: print(\"Hello\" (missing closing parenthesis)"
   ]
  },
  {
   "cell_type": "markdown",
   "id": "b9c70d8c",
   "metadata": {},
   "source": [
    "Q2. What happens when an exception is not handled? Explain with an example.\n",
    "If an exception is not handled, the program will crash and Python will display an error message (traceback)."
   ]
  },
  {
   "cell_type": "code",
   "execution_count": 1,
   "id": "50860052",
   "metadata": {},
   "outputs": [
    {
     "ename": "ZeroDivisionError",
     "evalue": "division by zero",
     "output_type": "error",
     "traceback": [
      "\u001b[1;31m---------------------------------------------------------------------------\u001b[0m",
      "\u001b[1;31mZeroDivisionError\u001b[0m                         Traceback (most recent call last)",
      "Cell \u001b[1;32mIn[1], line 4\u001b[0m\n\u001b[0;32m      2\u001b[0m a \u001b[38;5;241m=\u001b[39m \u001b[38;5;241m5\u001b[39m\n\u001b[0;32m      3\u001b[0m b \u001b[38;5;241m=\u001b[39m \u001b[38;5;241m0\u001b[39m\n\u001b[1;32m----> 4\u001b[0m \u001b[38;5;28mprint\u001b[39m(a\u001b[38;5;241m/\u001b[39mb)\n",
      "\u001b[1;31mZeroDivisionError\u001b[0m: division by zero"
     ]
    }
   ],
   "source": [
    "# No exception handling\n",
    "a = 5\n",
    "b = 0\n",
    "print(a/b)"
   ]
  },
  {
   "cell_type": "markdown",
   "id": "6c54d0b6",
   "metadata": {},
   "source": [
    "Q3. Which Python statements are used to catch and handle exceptions? Explain with an example.\n",
    "try: Code that might cause an exception is placed inside a try block.\n",
    "\n",
    "except: Code to handle the exception is placed inside an except block."
   ]
  },
  {
   "cell_type": "code",
   "execution_count": 2,
   "id": "65dc7039",
   "metadata": {},
   "outputs": [
    {
     "name": "stdout",
     "output_type": "stream",
     "text": [
      "You cannot divide by zero!\n"
     ]
    }
   ],
   "source": [
    "try:\n",
    "    a = 10 / 0\n",
    "except ZeroDivisionError:\n",
    "    print(\"You cannot divide by zero!\")"
   ]
  },
  {
   "cell_type": "markdown",
   "id": "6649243a",
   "metadata": {},
   "source": [
    "Q4. Explain with an example:"
   ]
  },
  {
   "cell_type": "code",
   "execution_count": null,
   "id": "b72cbd08",
   "metadata": {},
   "outputs": [],
   "source": [
    "try:\n",
    "    num = int(input(\"Enter a number: \"))\n",
    "except ValueError:\n",
    "    print(\"That's not a number!\")\n",
    "else:\n",
    "    print(f\"You entered: {num}\")"
   ]
  },
  {
   "cell_type": "code",
   "execution_count": null,
   "id": "bfac63ab",
   "metadata": {},
   "outputs": [],
   "source": [
    "try:\n",
    "    f = open(\"myfile.txt\", \"r\")\n",
    "except FileNotFoundError:\n",
    "    print(\"File not found!\")\n",
    "finally:\n",
    "    print(\"Execution complete, closing resources if needed.\")"
   ]
  },
  {
   "cell_type": "markdown",
   "id": "0bb59550",
   "metadata": {},
   "source": [
    "Q5. What are Custom Exceptions in Python? Why do we need Custom Exceptions? Explain with an example.\n",
    "Custom Exceptions are user-defined errors.\n",
    "\n",
    "They help make the error messages more meaningful and specific to your application."
   ]
  },
  {
   "cell_type": "code",
   "execution_count": null,
   "id": "2e8a2707",
   "metadata": {},
   "outputs": [],
   "source": [
    "class AgeTooSmallError(Exception):\n",
    "    pass\n",
    "\n",
    "def check_age(age):\n",
    "    if age < 18:\n",
    "        raise AgeTooSmallError(\"Age is too small to proceed!\")\n",
    "    return \"Eligible\"\n",
    "\n",
    "try:\n",
    "    print(check_age(15))\n",
    "except AgeTooSmallError as e:\n",
    "    print(e)"
   ]
  },
  {
   "cell_type": "markdown",
   "id": "a8e42d5a",
   "metadata": {},
   "source": [
    "Q6. Create a custom exception class. Use this class to handle an exception."
   ]
  },
  {
   "cell_type": "code",
   "execution_count": null,
   "id": "aa8bbe73",
   "metadata": {},
   "outputs": [],
   "source": [
    "class NegativeNumberError(Exception):\n",
    "    \"\"\"Raised when the input number is negative.\"\"\"\n",
    "    pass\n",
    "\n",
    "def check_positive(num):\n",
    "    if num < 0:\n",
    "        raise NegativeNumberError(\"Negative numbers are not allowed!\")\n",
    "    return f\"{num} is a positive number.\"\n",
    "\n",
    "# Using the custom exception\n",
    "try:\n",
    "    print(check_positive(-10))\n",
    "except NegativeNumberError as e:\n",
    "    print(e)"
   ]
  },
  {
   "cell_type": "code",
   "execution_count": null,
   "id": "8da9a132",
   "metadata": {},
   "outputs": [],
   "source": []
  },
  {
   "cell_type": "code",
   "execution_count": null,
   "id": "d0b6b802",
   "metadata": {},
   "outputs": [],
   "source": []
  }
 ],
 "metadata": {
  "kernelspec": {
   "display_name": "Python 3 (ipykernel)",
   "language": "python",
   "name": "python3"
  },
  "language_info": {
   "codemirror_mode": {
    "name": "ipython",
    "version": 3
   },
   "file_extension": ".py",
   "mimetype": "text/x-python",
   "name": "python",
   "nbconvert_exporter": "python",
   "pygments_lexer": "ipython3",
   "version": "3.11.4"
  }
 },
 "nbformat": 4,
 "nbformat_minor": 5
}
