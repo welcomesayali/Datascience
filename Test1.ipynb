{
 "cells": [
  {
   "cell_type": "code",
   "execution_count": 1,
   "id": "a37bb485-10c8-4788-aab7-5f77dc78063b",
   "metadata": {},
   "outputs": [
    {
     "name": "stdout",
     "output_type": "stream",
     "text": [
      "My age is: 32\n"
     ]
    }
   ],
   "source": [
    "age = 32\n",
    "print(\"My age is:\",age)"
   ]
  },
  {
   "cell_type": "code",
   "execution_count": 4,
   "id": "d97f0d5b-a289-4a99-aab0-a1cfa796ed97",
   "metadata": {},
   "outputs": [
    {
     "name": "stdout",
     "output_type": "stream",
     "text": [
      "My age is: 32\n"
     ]
    }
   ],
   "source": [
    "## f string\n",
    "print(f\"My age is: {age}\")"
   ]
  },
  {
   "cell_type": "code",
   "execution_count": 9,
   "id": "7b2d9207-e3f3-404c-9e21-802f60938ddf",
   "metadata": {},
   "outputs": [
    {
     "name": "stdout",
     "output_type": "stream",
     "text": [
      "My age is:36 and i have completed my degree of BE with the name of sayali patil \n"
     ]
    }
   ],
   "source": [
    "name=\"sayali patil\"\n",
    "age=36\n",
    "degree=\"BE\"\n",
    "print(f\"My age is:{age} and i have completed my degree of {degree} with the name of {name} \")"
   ]
  },
  {
   "cell_type": "code",
   "execution_count": 10,
   "id": "71db7a0b-cec5-4513-9a94-188f680412df",
   "metadata": {},
   "outputs": [
    {
     "name": "stdout",
     "output_type": "stream",
     "text": [
      "My age is:36 and i have completed my degree of BE with the name of sayali patil \n"
     ]
    }
   ],
   "source": [
    "print(f\"My age is:{age} and i have completed my degree of {degree} with the name of {name} \".format(age,name,degree))"
   ]
  },
  {
   "cell_type": "code",
   "execution_count": 11,
   "id": "bbf46313-3bd9-4248-9b1d-12be252607d0",
   "metadata": {},
   "outputs": [],
   "source": [
    "## control flow stmt"
   ]
  },
  {
   "cell_type": "code",
   "execution_count": null,
   "id": "3589285f-53cb-4a7e-a09b-57e8927db33b",
   "metadata": {},
   "outputs": [],
   "source": []
  }
 ],
 "metadata": {
  "kernelspec": {
   "display_name": "Python 3 (ipykernel)",
   "language": "python",
   "name": "python3"
  },
  "language_info": {
   "codemirror_mode": {
    "name": "ipython",
    "version": 3
   },
   "file_extension": ".py",
   "mimetype": "text/x-python",
   "name": "python",
   "nbconvert_exporter": "python",
   "pygments_lexer": "ipython3",
   "version": "3.10.8"
  }
 },
 "nbformat": 4,
 "nbformat_minor": 5
}
