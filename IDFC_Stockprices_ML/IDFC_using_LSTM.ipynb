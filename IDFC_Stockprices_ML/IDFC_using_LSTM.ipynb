{
  "nbformat": 4,
  "nbformat_minor": 0,
  "metadata": {
    "colab": {
      "provenance": []
    },
    "kernelspec": {
      "name": "python3",
      "display_name": "Python 3"
    },
    "language_info": {
      "name": "python"
    }
  },
  "cells": [
    {
      "cell_type": "markdown",
      "source": [
        "# Problem Statement\n",
        "\n",
        "To predict the closing stock price using past 60 days stock price. using Artificial Recurrent neural network called LSTM"
      ],
      "metadata": {
        "id": "Beho-NGsJjBA"
      }
    },
    {
      "cell_type": "markdown",
      "source": [
        "# Import Libraries"
      ],
      "metadata": {
        "id": "H0vF17q5J_2v"
      }
    },
    {
      "cell_type": "code",
      "execution_count": null,
      "metadata": {
        "id": "jf6Mk3nvetDV"
      },
      "outputs": [],
      "source": [
        "import pandas as pd\n",
        "import numpy as np\n",
        "import matplotlib.pyplot as plt\n",
        "from datetime import datetime\n",
        "import seaborn as sns\n",
        "import math\n",
        "from sklearn.preprocessing import MinMaxScaler\n",
        "from keras.models import Sequential\n",
        "from keras.layers import Dense, LSTM\n",
        "plt.style.use('fivethirtyeight')\n",
        "\n"
      ]
    },
    {
      "cell_type": "code",
      "source": [
        "df= pd.read_csv('IDFCFIRSTB.NS.csv')"
      ],
      "metadata": {
        "id": "k19NtJ-ZKsp8"
      },
      "execution_count": null,
      "outputs": []
    },
    {
      "cell_type": "code",
      "source": [
        "df"
      ],
      "metadata": {
        "colab": {
          "base_uri": "https://localhost:8080/",
          "height": 424
        },
        "id": "mw1ONV4gLK97",
        "outputId": "a14e2cd9-fd09-40ee-c378-fbe3b8d2ab61"
      },
      "execution_count": null,
      "outputs": [
        {
          "output_type": "execute_result",
          "data": {
            "text/plain": [
              "            Date       Open       High        Low      Close  Adj Close  \\\n",
              "0      11/6/2015  70.500000  73.400002  67.000000  70.400002  67.804970   \n",
              "1      11/9/2015  67.750000  68.000000  66.900002  66.949997  64.482140   \n",
              "2     11/10/2015  66.500000  66.500000  64.099998  64.550003  62.170612   \n",
              "3     11/13/2015  65.849998  65.849998  63.000000  63.500000  61.159309   \n",
              "4     11/16/2015  63.450001  65.500000  62.000000  65.000000  62.604019   \n",
              "...          ...        ...        ...        ...        ...        ...   \n",
              "1949   9/28/2023  97.650002  98.400002  93.650002  94.550003  94.550003   \n",
              "1950   9/29/2023  95.150002  95.900002  94.199997  95.500000  95.500000   \n",
              "1951   10/3/2023  95.650002  95.650002  93.550003  94.150002  94.150002   \n",
              "1952   10/4/2023  93.500000  93.500000  91.300003  91.750000  91.750000   \n",
              "1953   10/5/2023  92.599998  93.000000  91.699997  91.949997  91.949997   \n",
              "\n",
              "        Volume  \n",
              "0     22781516  \n",
              "1     10010231  \n",
              "2     10736961  \n",
              "3      6771668  \n",
              "4      5640610  \n",
              "...        ...  \n",
              "1949  52996232  \n",
              "1950  21360102  \n",
              "1951  20336030  \n",
              "1952  47373997  \n",
              "1953  17104086  \n",
              "\n",
              "[1954 rows x 7 columns]"
            ],
            "text/html": [
              "\n",
              "  <div id=\"df-ba508b61-4862-4bdb-b86f-8eca46833b31\" class=\"colab-df-container\">\n",
              "    <div>\n",
              "<style scoped>\n",
              "    .dataframe tbody tr th:only-of-type {\n",
              "        vertical-align: middle;\n",
              "    }\n",
              "\n",
              "    .dataframe tbody tr th {\n",
              "        vertical-align: top;\n",
              "    }\n",
              "\n",
              "    .dataframe thead th {\n",
              "        text-align: right;\n",
              "    }\n",
              "</style>\n",
              "<table border=\"1\" class=\"dataframe\">\n",
              "  <thead>\n",
              "    <tr style=\"text-align: right;\">\n",
              "      <th></th>\n",
              "      <th>Date</th>\n",
              "      <th>Open</th>\n",
              "      <th>High</th>\n",
              "      <th>Low</th>\n",
              "      <th>Close</th>\n",
              "      <th>Adj Close</th>\n",
              "      <th>Volume</th>\n",
              "    </tr>\n",
              "  </thead>\n",
              "  <tbody>\n",
              "    <tr>\n",
              "      <th>0</th>\n",
              "      <td>11/6/2015</td>\n",
              "      <td>70.500000</td>\n",
              "      <td>73.400002</td>\n",
              "      <td>67.000000</td>\n",
              "      <td>70.400002</td>\n",
              "      <td>67.804970</td>\n",
              "      <td>22781516</td>\n",
              "    </tr>\n",
              "    <tr>\n",
              "      <th>1</th>\n",
              "      <td>11/9/2015</td>\n",
              "      <td>67.750000</td>\n",
              "      <td>68.000000</td>\n",
              "      <td>66.900002</td>\n",
              "      <td>66.949997</td>\n",
              "      <td>64.482140</td>\n",
              "      <td>10010231</td>\n",
              "    </tr>\n",
              "    <tr>\n",
              "      <th>2</th>\n",
              "      <td>11/10/2015</td>\n",
              "      <td>66.500000</td>\n",
              "      <td>66.500000</td>\n",
              "      <td>64.099998</td>\n",
              "      <td>64.550003</td>\n",
              "      <td>62.170612</td>\n",
              "      <td>10736961</td>\n",
              "    </tr>\n",
              "    <tr>\n",
              "      <th>3</th>\n",
              "      <td>11/13/2015</td>\n",
              "      <td>65.849998</td>\n",
              "      <td>65.849998</td>\n",
              "      <td>63.000000</td>\n",
              "      <td>63.500000</td>\n",
              "      <td>61.159309</td>\n",
              "      <td>6771668</td>\n",
              "    </tr>\n",
              "    <tr>\n",
              "      <th>4</th>\n",
              "      <td>11/16/2015</td>\n",
              "      <td>63.450001</td>\n",
              "      <td>65.500000</td>\n",
              "      <td>62.000000</td>\n",
              "      <td>65.000000</td>\n",
              "      <td>62.604019</td>\n",
              "      <td>5640610</td>\n",
              "    </tr>\n",
              "    <tr>\n",
              "      <th>...</th>\n",
              "      <td>...</td>\n",
              "      <td>...</td>\n",
              "      <td>...</td>\n",
              "      <td>...</td>\n",
              "      <td>...</td>\n",
              "      <td>...</td>\n",
              "      <td>...</td>\n",
              "    </tr>\n",
              "    <tr>\n",
              "      <th>1949</th>\n",
              "      <td>9/28/2023</td>\n",
              "      <td>97.650002</td>\n",
              "      <td>98.400002</td>\n",
              "      <td>93.650002</td>\n",
              "      <td>94.550003</td>\n",
              "      <td>94.550003</td>\n",
              "      <td>52996232</td>\n",
              "    </tr>\n",
              "    <tr>\n",
              "      <th>1950</th>\n",
              "      <td>9/29/2023</td>\n",
              "      <td>95.150002</td>\n",
              "      <td>95.900002</td>\n",
              "      <td>94.199997</td>\n",
              "      <td>95.500000</td>\n",
              "      <td>95.500000</td>\n",
              "      <td>21360102</td>\n",
              "    </tr>\n",
              "    <tr>\n",
              "      <th>1951</th>\n",
              "      <td>10/3/2023</td>\n",
              "      <td>95.650002</td>\n",
              "      <td>95.650002</td>\n",
              "      <td>93.550003</td>\n",
              "      <td>94.150002</td>\n",
              "      <td>94.150002</td>\n",
              "      <td>20336030</td>\n",
              "    </tr>\n",
              "    <tr>\n",
              "      <th>1952</th>\n",
              "      <td>10/4/2023</td>\n",
              "      <td>93.500000</td>\n",
              "      <td>93.500000</td>\n",
              "      <td>91.300003</td>\n",
              "      <td>91.750000</td>\n",
              "      <td>91.750000</td>\n",
              "      <td>47373997</td>\n",
              "    </tr>\n",
              "    <tr>\n",
              "      <th>1953</th>\n",
              "      <td>10/5/2023</td>\n",
              "      <td>92.599998</td>\n",
              "      <td>93.000000</td>\n",
              "      <td>91.699997</td>\n",
              "      <td>91.949997</td>\n",
              "      <td>91.949997</td>\n",
              "      <td>17104086</td>\n",
              "    </tr>\n",
              "  </tbody>\n",
              "</table>\n",
              "<p>1954 rows × 7 columns</p>\n",
              "</div>\n",
              "    <div class=\"colab-df-buttons\">\n",
              "\n",
              "  <div class=\"colab-df-container\">\n",
              "    <button class=\"colab-df-convert\" onclick=\"convertToInteractive('df-ba508b61-4862-4bdb-b86f-8eca46833b31')\"\n",
              "            title=\"Convert this dataframe to an interactive table.\"\n",
              "            style=\"display:none;\">\n",
              "\n",
              "  <svg xmlns=\"http://www.w3.org/2000/svg\" height=\"24px\" viewBox=\"0 -960 960 960\">\n",
              "    <path d=\"M120-120v-720h720v720H120Zm60-500h600v-160H180v160Zm220 220h160v-160H400v160Zm0 220h160v-160H400v160ZM180-400h160v-160H180v160Zm440 0h160v-160H620v160ZM180-180h160v-160H180v160Zm440 0h160v-160H620v160Z\"/>\n",
              "  </svg>\n",
              "    </button>\n",
              "\n",
              "  <style>\n",
              "    .colab-df-container {\n",
              "      display:flex;\n",
              "      gap: 12px;\n",
              "    }\n",
              "\n",
              "    .colab-df-convert {\n",
              "      background-color: #E8F0FE;\n",
              "      border: none;\n",
              "      border-radius: 50%;\n",
              "      cursor: pointer;\n",
              "      display: none;\n",
              "      fill: #1967D2;\n",
              "      height: 32px;\n",
              "      padding: 0 0 0 0;\n",
              "      width: 32px;\n",
              "    }\n",
              "\n",
              "    .colab-df-convert:hover {\n",
              "      background-color: #E2EBFA;\n",
              "      box-shadow: 0px 1px 2px rgba(60, 64, 67, 0.3), 0px 1px 3px 1px rgba(60, 64, 67, 0.15);\n",
              "      fill: #174EA6;\n",
              "    }\n",
              "\n",
              "    .colab-df-buttons div {\n",
              "      margin-bottom: 4px;\n",
              "    }\n",
              "\n",
              "    [theme=dark] .colab-df-convert {\n",
              "      background-color: #3B4455;\n",
              "      fill: #D2E3FC;\n",
              "    }\n",
              "\n",
              "    [theme=dark] .colab-df-convert:hover {\n",
              "      background-color: #434B5C;\n",
              "      box-shadow: 0px 1px 3px 1px rgba(0, 0, 0, 0.15);\n",
              "      filter: drop-shadow(0px 1px 2px rgba(0, 0, 0, 0.3));\n",
              "      fill: #FFFFFF;\n",
              "    }\n",
              "  </style>\n",
              "\n",
              "    <script>\n",
              "      const buttonEl =\n",
              "        document.querySelector('#df-ba508b61-4862-4bdb-b86f-8eca46833b31 button.colab-df-convert');\n",
              "      buttonEl.style.display =\n",
              "        google.colab.kernel.accessAllowed ? 'block' : 'none';\n",
              "\n",
              "      async function convertToInteractive(key) {\n",
              "        const element = document.querySelector('#df-ba508b61-4862-4bdb-b86f-8eca46833b31');\n",
              "        const dataTable =\n",
              "          await google.colab.kernel.invokeFunction('convertToInteractive',\n",
              "                                                    [key], {});\n",
              "        if (!dataTable) return;\n",
              "\n",
              "        const docLinkHtml = 'Like what you see? Visit the ' +\n",
              "          '<a target=\"_blank\" href=https://colab.research.google.com/notebooks/data_table.ipynb>data table notebook</a>'\n",
              "          + ' to learn more about interactive tables.';\n",
              "        element.innerHTML = '';\n",
              "        dataTable['output_type'] = 'display_data';\n",
              "        await google.colab.output.renderOutput(dataTable, element);\n",
              "        const docLink = document.createElement('div');\n",
              "        docLink.innerHTML = docLinkHtml;\n",
              "        element.appendChild(docLink);\n",
              "      }\n",
              "    </script>\n",
              "  </div>\n",
              "\n",
              "\n",
              "<div id=\"df-61a65826-22c3-4d65-96cc-6d7d7704128a\">\n",
              "  <button class=\"colab-df-quickchart\" onclick=\"quickchart('df-61a65826-22c3-4d65-96cc-6d7d7704128a')\"\n",
              "            title=\"Suggest charts.\"\n",
              "            style=\"display:none;\">\n",
              "\n",
              "<svg xmlns=\"http://www.w3.org/2000/svg\" height=\"24px\"viewBox=\"0 0 24 24\"\n",
              "     width=\"24px\">\n",
              "    <g>\n",
              "        <path d=\"M19 3H5c-1.1 0-2 .9-2 2v14c0 1.1.9 2 2 2h14c1.1 0 2-.9 2-2V5c0-1.1-.9-2-2-2zM9 17H7v-7h2v7zm4 0h-2V7h2v10zm4 0h-2v-4h2v4z\"/>\n",
              "    </g>\n",
              "</svg>\n",
              "  </button>\n",
              "\n",
              "<style>\n",
              "  .colab-df-quickchart {\n",
              "      --bg-color: #E8F0FE;\n",
              "      --fill-color: #1967D2;\n",
              "      --hover-bg-color: #E2EBFA;\n",
              "      --hover-fill-color: #174EA6;\n",
              "      --disabled-fill-color: #AAA;\n",
              "      --disabled-bg-color: #DDD;\n",
              "  }\n",
              "\n",
              "  [theme=dark] .colab-df-quickchart {\n",
              "      --bg-color: #3B4455;\n",
              "      --fill-color: #D2E3FC;\n",
              "      --hover-bg-color: #434B5C;\n",
              "      --hover-fill-color: #FFFFFF;\n",
              "      --disabled-bg-color: #3B4455;\n",
              "      --disabled-fill-color: #666;\n",
              "  }\n",
              "\n",
              "  .colab-df-quickchart {\n",
              "    background-color: var(--bg-color);\n",
              "    border: none;\n",
              "    border-radius: 50%;\n",
              "    cursor: pointer;\n",
              "    display: none;\n",
              "    fill: var(--fill-color);\n",
              "    height: 32px;\n",
              "    padding: 0;\n",
              "    width: 32px;\n",
              "  }\n",
              "\n",
              "  .colab-df-quickchart:hover {\n",
              "    background-color: var(--hover-bg-color);\n",
              "    box-shadow: 0 1px 2px rgba(60, 64, 67, 0.3), 0 1px 3px 1px rgba(60, 64, 67, 0.15);\n",
              "    fill: var(--button-hover-fill-color);\n",
              "  }\n",
              "\n",
              "  .colab-df-quickchart-complete:disabled,\n",
              "  .colab-df-quickchart-complete:disabled:hover {\n",
              "    background-color: var(--disabled-bg-color);\n",
              "    fill: var(--disabled-fill-color);\n",
              "    box-shadow: none;\n",
              "  }\n",
              "\n",
              "  .colab-df-spinner {\n",
              "    border: 2px solid var(--fill-color);\n",
              "    border-color: transparent;\n",
              "    border-bottom-color: var(--fill-color);\n",
              "    animation:\n",
              "      spin 1s steps(1) infinite;\n",
              "  }\n",
              "\n",
              "  @keyframes spin {\n",
              "    0% {\n",
              "      border-color: transparent;\n",
              "      border-bottom-color: var(--fill-color);\n",
              "      border-left-color: var(--fill-color);\n",
              "    }\n",
              "    20% {\n",
              "      border-color: transparent;\n",
              "      border-left-color: var(--fill-color);\n",
              "      border-top-color: var(--fill-color);\n",
              "    }\n",
              "    30% {\n",
              "      border-color: transparent;\n",
              "      border-left-color: var(--fill-color);\n",
              "      border-top-color: var(--fill-color);\n",
              "      border-right-color: var(--fill-color);\n",
              "    }\n",
              "    40% {\n",
              "      border-color: transparent;\n",
              "      border-right-color: var(--fill-color);\n",
              "      border-top-color: var(--fill-color);\n",
              "    }\n",
              "    60% {\n",
              "      border-color: transparent;\n",
              "      border-right-color: var(--fill-color);\n",
              "    }\n",
              "    80% {\n",
              "      border-color: transparent;\n",
              "      border-right-color: var(--fill-color);\n",
              "      border-bottom-color: var(--fill-color);\n",
              "    }\n",
              "    90% {\n",
              "      border-color: transparent;\n",
              "      border-bottom-color: var(--fill-color);\n",
              "    }\n",
              "  }\n",
              "</style>\n",
              "\n",
              "  <script>\n",
              "    async function quickchart(key) {\n",
              "      const quickchartButtonEl =\n",
              "        document.querySelector('#' + key + ' button');\n",
              "      quickchartButtonEl.disabled = true;  // To prevent multiple clicks.\n",
              "      quickchartButtonEl.classList.add('colab-df-spinner');\n",
              "      try {\n",
              "        const charts = await google.colab.kernel.invokeFunction(\n",
              "            'suggestCharts', [key], {});\n",
              "      } catch (error) {\n",
              "        console.error('Error during call to suggestCharts:', error);\n",
              "      }\n",
              "      quickchartButtonEl.classList.remove('colab-df-spinner');\n",
              "      quickchartButtonEl.classList.add('colab-df-quickchart-complete');\n",
              "    }\n",
              "    (() => {\n",
              "      let quickchartButtonEl =\n",
              "        document.querySelector('#df-61a65826-22c3-4d65-96cc-6d7d7704128a button');\n",
              "      quickchartButtonEl.style.display =\n",
              "        google.colab.kernel.accessAllowed ? 'block' : 'none';\n",
              "    })();\n",
              "  </script>\n",
              "</div>\n",
              "    </div>\n",
              "  </div>\n"
            ]
          },
          "metadata": {},
          "execution_count": 135
        }
      ]
    },
    {
      "cell_type": "code",
      "source": [
        "df.shape"
      ],
      "metadata": {
        "colab": {
          "base_uri": "https://localhost:8080/"
        },
        "id": "8SHhjiBrLLA8",
        "outputId": "2fbf1940-000e-4800-93eb-db322f562775"
      },
      "execution_count": null,
      "outputs": [
        {
          "output_type": "execute_result",
          "data": {
            "text/plain": [
              "(1954, 7)"
            ]
          },
          "metadata": {},
          "execution_count": 72
        }
      ]
    },
    {
      "cell_type": "code",
      "source": [
        "#Visualise the close price\n",
        "df['Date'] = pd.to_datetime(df['Date'], format=\"%m/%d/%Y\")\n",
        "df.set_index('Date', inplace=True)\n",
        "\n",
        "plt.figure(figsize=(12,8))\n",
        "plt.title('Close Price History')\n",
        "plt.plot(df.index,df['Close'])\n",
        "\n",
        "plt.xlabel('Date')\n",
        "plt.ylabel('Close Price in INR', fontsize=18)\n",
        "\n",
        "plt.grid(True)\n",
        "plt.tight_layout()\n",
        "plt.show()"
      ],
      "metadata": {
        "colab": {
          "base_uri": "https://localhost:8080/",
          "height": 794
        },
        "id": "qo9LGx-oLLEF",
        "outputId": "46f522ae-e426-4ea2-e1c4-e13a2a0ea255"
      },
      "execution_count": null,
      "outputs": [
        {
          "output_type": "display_data",
          "data": {
            "text/plain": [
              "<Figure size 1200x800 with 1 Axes>"
            ],
            "image/png": "[encoded data removed]"
          },
          "metadata": {}
        }
      ]
    },
    {
      "cell_type": "code",
      "source": [
        "#create a new dataframe with close column\n",
        "data = df.filter(['Close'])\n",
        "#convert the dataframe to numpy array\n",
        "dataset = data.values\n",
        "#Get the number of rows to train the model on\n",
        "training_data_len = math.ceil(len(dataset)* 0.8)"
      ],
      "metadata": {
        "id": "Y5QcG0PzLLIR"
      },
      "execution_count": null,
      "outputs": []
    },
    {
      "cell_type": "code",
      "source": [
        "training_data_len"
      ],
      "metadata": {
        "colab": {
          "base_uri": "https://localhost:8080/"
        },
        "id": "msPI8yzNRoum",
        "outputId": "89139ae4-dc0a-422f-b2d3-527e8d830cdd"
      },
      "execution_count": null,
      "outputs": [
        {
          "output_type": "execute_result",
          "data": {
            "text/plain": [
              "1564"
            ]
          },
          "metadata": {},
          "execution_count": 138
        }
      ]
    },
    {
      "cell_type": "code",
      "source": [
        "#scale the data\n",
        "scaler = MinMaxScaler(feature_range=(0,1))\n",
        "scaled_data = scaler.fit_transform(dataset)\n",
        "scaled_data"
      ],
      "metadata": {
        "colab": {
          "base_uri": "https://localhost:8080/"
        },
        "id": "Ux7vBGATRqY5",
        "outputId": "ddbe6d3e-44f7-44ef-e865-7ffd65b7c2f5"
      },
      "execution_count": null,
      "outputs": [
        {
          "output_type": "execute_result",
          "data": {
            "text/plain": [
              "array([[0.64466384],\n",
              "       [0.60209746],\n",
              "       [0.57248618],\n",
              "       ...,\n",
              "       [0.93769284],\n",
              "       [0.90808146],\n",
              "       [0.91054904]])"
            ]
          },
          "metadata": {},
          "execution_count": 139
        }
      ]
    },
    {
      "cell_type": "code",
      "source": [
        "#create a training dataset\n",
        "train_data = scaled_data[0:training_data_len,:]\n",
        "#Split the data into x_train and y_train dataset\n",
        "x_train =[]\n",
        "y_train =[]\n",
        "\n",
        "for i in range(60,len(train_data)):\n",
        "  x_train.append(train_data[i-60:i,0])\n",
        "  y_train.append(train_data[i,0])\n",
        "  if i <= 61:\n",
        "    print(x_train)\n",
        "    print(y_train)\n",
        "    print()\n"
      ],
      "metadata": {
        "colab": {
          "base_uri": "https://localhost:8080/"
        },
        "id": "NUv8Gg46RqcE",
        "outputId": "16a9cfdd-bcb7-46d7-a44c-e42ccb318ef3"
      },
      "execution_count": null,
      "outputs": [
        {
          "output_type": "stream",
          "name": "stdout",
          "text": [
            "[array([0.64466384, 0.60209746, 0.57248618, 0.55953117, 0.57803827,\n",
            "       0.57433681, 0.58050585, 0.56384947, 0.58050585, 0.56323258,\n",
            "       0.55274525, 0.53670578, 0.52868602, 0.50524367, 0.51634795,\n",
            "       0.52004936, 0.52313388, 0.52251698, 0.50956203, 0.48797042,\n",
            "       0.47748303, 0.47748303, 0.45835904, 0.46391118, 0.46082667,\n",
            "       0.46761259, 0.49228872, 0.49660708, 0.4848859 , 0.5077113 ,\n",
            "       0.5077113 , 0.52745223, 0.51573106, 0.53917335, 0.53485505,\n",
            "       0.52683528, 0.52498461, 0.503393  , 0.50400989, 0.48858731,\n",
            "       0.46576192, 0.45589142, 0.44108579, 0.42196174, 0.40900679,\n",
            "       0.37692785, 0.35410239, 0.33189389, 0.33806292, 0.31215302,\n",
            "       0.31215302, 0.34423196, 0.35965454, 0.40037013, 0.40222087,\n",
            "       0.42442937, 0.47624925, 0.44663787, 0.41887723, 0.43553365])]\n",
            "[0.45404074475166245]\n",
            "\n",
            "[array([0.64466384, 0.60209746, 0.57248618, 0.55953117, 0.57803827,\n",
            "       0.57433681, 0.58050585, 0.56384947, 0.58050585, 0.56323258,\n",
            "       0.55274525, 0.53670578, 0.52868602, 0.50524367, 0.51634795,\n",
            "       0.52004936, 0.52313388, 0.52251698, 0.50956203, 0.48797042,\n",
            "       0.47748303, 0.47748303, 0.45835904, 0.46391118, 0.46082667,\n",
            "       0.46761259, 0.49228872, 0.49660708, 0.4848859 , 0.5077113 ,\n",
            "       0.5077113 , 0.52745223, 0.51573106, 0.53917335, 0.53485505,\n",
            "       0.52683528, 0.52498461, 0.503393  , 0.50400989, 0.48858731,\n",
            "       0.46576192, 0.45589142, 0.44108579, 0.42196174, 0.40900679,\n",
            "       0.37692785, 0.35410239, 0.33189389, 0.33806292, 0.31215302,\n",
            "       0.31215302, 0.34423196, 0.35965454, 0.40037013, 0.40222087,\n",
            "       0.42442937, 0.47624925, 0.44663787, 0.41887723, 0.43553365]), array([0.60209746, 0.57248618, 0.55953117, 0.57803827, 0.57433681,\n",
            "       0.58050585, 0.56384947, 0.58050585, 0.56323258, 0.55274525,\n",
            "       0.53670578, 0.52868602, 0.50524367, 0.51634795, 0.52004936,\n",
            "       0.52313388, 0.52251698, 0.50956203, 0.48797042, 0.47748303,\n",
            "       0.47748303, 0.45835904, 0.46391118, 0.46082667, 0.46761259,\n",
            "       0.49228872, 0.49660708, 0.4848859 , 0.5077113 , 0.5077113 ,\n",
            "       0.52745223, 0.51573106, 0.53917335, 0.53485505, 0.52683528,\n",
            "       0.52498461, 0.503393  , 0.50400989, 0.48858731, 0.46576192,\n",
            "       0.45589142, 0.44108579, 0.42196174, 0.40900679, 0.37692785,\n",
            "       0.35410239, 0.33189389, 0.33806292, 0.31215302, 0.31215302,\n",
            "       0.34423196, 0.35965454, 0.40037013, 0.40222087, 0.42442937,\n",
            "       0.47624925, 0.44663787, 0.41887723, 0.43553365, 0.45404074])]\n",
            "[0.45404074475166245, 0.44725482223028346]\n",
            "\n"
          ]
        }
      ]
    },
    {
      "cell_type": "code",
      "source": [
        "# convert x_train and y_train into a numpy arrays\n",
        "x_train,y_train =np.array(x_train),np.array(y_train)"
      ],
      "metadata": {
        "id": "VRlMwJfqRqfZ"
      },
      "execution_count": null,
      "outputs": []
    },
    {
      "cell_type": "code",
      "source": [
        "#Reshape the data to feed the LSTM\n",
        "x_train =np.reshape(x_train,(x_train.shape[0],x_train.shape[1],1)) #rows,colums,no. of features\n",
        "x_train.shape"
      ],
      "metadata": {
        "colab": {
          "base_uri": "https://localhost:8080/"
        },
        "id": "Lo_i0929Rqi2",
        "outputId": "fa6f61e5-7102-48e8-d9c3-8778ddbbed95"
      },
      "execution_count": null,
      "outputs": [
        {
          "output_type": "execute_result",
          "data": {
            "text/plain": [
              "(1504, 60, 1)"
            ]
          },
          "metadata": {},
          "execution_count": 142
        }
      ]
    },
    {
      "cell_type": "code",
      "source": [
        "#Build the LSTM model\n",
        "model = Sequential()\n",
        "model.add(LSTM(50,return_sequences=True,input_shape=(x_train.shape[1],1))) # layer 1\n",
        "model.add(LSTM(50,return_sequences=False)) # layer 2 without LSTM layer hence false\n",
        "model.add(Dense(25))\n",
        "model.add(Dense(1))"
      ],
      "metadata": {
        "id": "6S1hTuSHUu50"
      },
      "execution_count": null,
      "outputs": []
    },
    {
      "cell_type": "code",
      "source": [
        "#compile the model\n",
        "model.compile(optimizer='adam',loss='mean_squared_error')"
      ],
      "metadata": {
        "id": "AKjyYOztWghE"
      },
      "execution_count": null,
      "outputs": []
    },
    {
      "cell_type": "code",
      "source": [
        "#Train the model\n",
        "model.fit(x_train, y_train, batch_size=1, epochs=1)"
      ],
      "metadata": {
        "colab": {
          "base_uri": "https://localhost:8080/"
        },
        "id": "j4eMG9nPWgso",
        "outputId": "d36a9910-1b04-40f2-a7c5-927c7a83cd87"
      },
      "execution_count": null,
      "outputs": [
        {
          "output_type": "stream",
          "name": "stdout",
          "text": [
            "1504/1504 [==============================] - 27s 17ms/step - loss: 0.0016\n"
          ]
        },
        {
          "output_type": "execute_result",
          "data": {
            "text/plain": [
              "<keras.src.callbacks.History at 0x7f74cc5878b0>"
            ]
          },
          "metadata": {},
          "execution_count": 145
        }
      ]
    },
    {
      "cell_type": "code",
      "source": [
        "#create a testing dataset\n",
        "#create a new array containing the scaled values from index 1504 to 1954\n",
        "test_data = scaled_data[training_data_len-60:, :]\n",
        "#create the datasets x_test,y_test\n",
        "x_test =[]\n",
        "y_test =dataset[training_data_len:, :]\n",
        "for i in range(60,len(test_data)):\n",
        "    x_test.append(test_data[i-60:i,0])"
      ],
      "metadata": {
        "id": "HUKMwqnIXJnq"
      },
      "execution_count": null,
      "outputs": []
    },
    {
      "cell_type": "code",
      "source": [
        "#convert the data into numpy array\n",
        "x_test = np.array(x_test)"
      ],
      "metadata": {
        "id": "ArLOnig9XJrc"
      },
      "execution_count": null,
      "outputs": []
    },
    {
      "cell_type": "code",
      "source": [
        "#Reshape the data to feed the LSTM\n",
        "x_test = np.reshape(x_test, (x_test.shape[0], x_test.shape[1], 1)) #rows,colums,no. of features"
      ],
      "metadata": {
        "id": "73HmTcMntj7r"
      },
      "execution_count": null,
      "outputs": []
    },
    {
      "cell_type": "code",
      "source": [
        "x_test.shape"
      ],
      "metadata": {
        "colab": {
          "base_uri": "https://localhost:8080/"
        },
        "id": "0Wr_5xj6tj-3",
        "outputId": "688b3975-48a3-44c8-c54f-6034ea4c9fb5"
      },
      "execution_count": null,
      "outputs": [
        {
          "output_type": "execute_result",
          "data": {
            "text/plain": [
              "(390, 60, 1)"
            ]
          },
          "metadata": {},
          "execution_count": 149
        }
      ]
    },
    {
      "cell_type": "code",
      "source": [
        "#Get the models predicted price values\n",
        "predictions = model.predict(x_test)\n",
        "predictions = scaler.inverse_transform(predictions) #unscale the data"
      ],
      "metadata": {
        "colab": {
          "base_uri": "https://localhost:8080/"
        },
        "id": "q8WTwtFttkCc",
        "outputId": "bff2579d-455f-492c-bf99-ddf87240161e"
      },
      "execution_count": null,
      "outputs": [
        {
          "output_type": "stream",
          "name": "stdout",
          "text": [
            "13/13 [==============================] - 1s 10ms/step\n"
          ]
        }
      ]
    },
    {
      "cell_type": "code",
      "source": [
        "#Get the Root mean squared error(RMSE)\n",
        "rmse=np.sqrt(np.mean(((predictions- y_test)**2)))\n",
        "rmse\n"
      ],
      "metadata": {
        "colab": {
          "base_uri": "https://localhost:8080/"
        },
        "id": "_hxFmsgytkGK",
        "outputId": "233ac9fe-2e54-4480-e1f3-8f8f785cea6b"
      },
      "execution_count": null,
      "outputs": [
        {
          "output_type": "execute_result",
          "data": {
            "text/plain": [
              "3.142001441444395"
            ]
          },
          "metadata": {},
          "execution_count": 151
        }
      ]
    },
    {
      "cell_type": "code",
      "source": [
        "#Plot the data\n",
        "train= data[:training_data_len]\n",
        "valid = data[training_data_len:]\n",
        "valid['predictions'] = predictions"
      ],
      "metadata": {
        "colab": {
          "base_uri": "https://localhost:8080/"
        },
        "id": "kKCPtPaKxIx9",
        "outputId": "6f2a6c5c-e7b7-4d24-a640-363f72d4cb2b"
      },
      "execution_count": null,
      "outputs": [
        {
          "output_type": "stream",
          "name": "stderr",
          "text": [
            "<ipython-input-152-452901630a1f>:4: SettingWithCopyWarning: \n",
            "A value is trying to be set on a copy of a slice from a DataFrame.\n",
            "Try using .loc[row_indexer,col_indexer] = value instead\n",
            "\n",
            "See the caveats in the documentation: https://pandas.pydata.org/pandas-docs/stable/user_guide/indexing.html#returning-a-view-versus-a-copy\n",
            "  valid['predictions'] = predictions\n"
          ]
        }
      ]
    },
    {
      "cell_type": "code",
      "source": [
        "#visualise\n",
        "#df['Date'] = pd.to_datetime(df['Date'], format=\"%m/%d/%Y\")\n",
        "\n",
        "plt.figure(figsize=(12,8))\n",
        "plt.title('Model')\n",
        "plt.xlabel('Date')\n",
        "plt.ylabel('Close Price in INR', fontsize=18)\n",
        "plt.plot(train['Close'])\n",
        "plt.plot(valid[['Close','predictions']])\n",
        "plt.legend(['train','Val','predictions'], loc='lower right')\n",
        "plt.grid(True)\n",
        "plt.tight_layout()\n",
        "plt.show()"
      ],
      "metadata": {
        "colab": {
          "base_uri": "https://localhost:8080/",
          "height": 794
        },
        "id": "ecCm9jmkxI41",
        "outputId": "7b59de52-a16a-4409-8333-a70a890020ec"
      },
      "execution_count": null,
      "outputs": [
        {
          "output_type": "display_data",
          "data": {
            "text/plain": [
              "<Figure size 1200x800 with 1 Axes>"
            ],
            "image/png": "[encoded data removed]"
          },
          "metadata": {}
        }
      ]
    },
    {
      "cell_type": "code",
      "source": [
        "#Show the valid and predicted prices\n",
        "valid"
      ],
      "metadata": {
        "colab": {
          "base_uri": "https://localhost:8080/",
          "height": 455
        },
        "id": "x-DjaHwJxI79",
        "outputId": "d399708f-602f-427e-ee08-7ec0be857dc9"
      },
      "execution_count": null,
      "outputs": [
        {
          "output_type": "execute_result",
          "data": {
            "text/plain": [
              "                Close  predictions\n",
              "Date                              \n",
              "2022-03-10  42.299999    41.233734\n",
              "2022-03-11  42.400002    41.573776\n",
              "2022-03-14  41.900002    42.001808\n",
              "2022-03-15  40.700001    42.314217\n",
              "2022-03-16  42.000000    42.284039\n",
              "...               ...          ...\n",
              "2023-09-28  94.550003   100.710182\n",
              "2023-09-29  95.500000   101.152496\n",
              "2023-10-03  94.150002   101.435905\n",
              "2023-10-04  91.750000   101.240631\n",
              "2023-10-05  91.949997   100.293930\n",
              "\n",
              "[390 rows x 2 columns]"
            ],
            "text/html": [
              "\n",
              "  <div id=\"df-93494969-83b7-456d-9a6f-610cf0e4c6a3\" class=\"colab-df-container\">\n",
              "    <div>\n",
              "<style scoped>\n",
              "    .dataframe tbody tr th:only-of-type {\n",
              "        vertical-align: middle;\n",
              "    }\n",
              "\n",
              "    .dataframe tbody tr th {\n",
              "        vertical-align: top;\n",
              "    }\n",
              "\n",
              "    .dataframe thead th {\n",
              "        text-align: right;\n",
              "    }\n",
              "</style>\n",
              "<table border=\"1\" class=\"dataframe\">\n",
              "  <thead>\n",
              "    <tr style=\"text-align: right;\">\n",
              "      <th></th>\n",
              "      <th>Close</th>\n",
              "      <th>predictions</th>\n",
              "    </tr>\n",
              "    <tr>\n",
              "      <th>Date</th>\n",
              "      <th></th>\n",
              "      <th></th>\n",
              "    </tr>\n",
              "  </thead>\n",
              "  <tbody>\n",
              "    <tr>\n",
              "      <th>2022-03-10</th>\n",
              "      <td>42.299999</td>\n",
              "      <td>41.233734</td>\n",
              "    </tr>\n",
              "    <tr>\n",
              "      <th>2022-03-11</th>\n",
              "      <td>42.400002</td>\n",
              "      <td>41.573776</td>\n",
              "    </tr>\n",
              "    <tr>\n",
              "      <th>2022-03-14</th>\n",
              "      <td>41.900002</td>\n",
              "      <td>42.001808</td>\n",
              "    </tr>\n",
              "    <tr>\n",
              "      <th>2022-03-15</th>\n",
              "      <td>40.700001</td>\n",
              "      <td>42.314217</td>\n",
              "    </tr>\n",
              "    <tr>\n",
              "      <th>2022-03-16</th>\n",
              "      <td>42.000000</td>\n",
              "      <td>42.284039</td>\n",
              "    </tr>\n",
              "    <tr>\n",
              "      <th>...</th>\n",
              "      <td>...</td>\n",
              "      <td>...</td>\n",
              "    </tr>\n",
              "    <tr>\n",
              "      <th>2023-09-28</th>\n",
              "      <td>94.550003</td>\n",
              "      <td>100.710182</td>\n",
              "    </tr>\n",
              "    <tr>\n",
              "      <th>2023-09-29</th>\n",
              "      <td>95.500000</td>\n",
              "      <td>101.152496</td>\n",
              "    </tr>\n",
              "    <tr>\n",
              "      <th>2023-10-03</th>\n",
              "      <td>94.150002</td>\n",
              "      <td>101.435905</td>\n",
              "    </tr>\n",
              "    <tr>\n",
              "      <th>2023-10-04</th>\n",
              "      <td>91.750000</td>\n",
              "      <td>101.240631</td>\n",
              "    </tr>\n",
              "    <tr>\n",
              "      <th>2023-10-05</th>\n",
              "      <td>91.949997</td>\n",
              "      <td>100.293930</td>\n",
              "    </tr>\n",
              "  </tbody>\n",
              "</table>\n",
              "<p>390 rows × 2 columns</p>\n",
              "</div>\n",
              "    <div class=\"colab-df-buttons\">\n",
              "\n",
              "  <div class=\"colab-df-container\">\n",
              "    <button class=\"colab-df-convert\" onclick=\"convertToInteractive('df-93494969-83b7-456d-9a6f-610cf0e4c6a3')\"\n",
              "            title=\"Convert this dataframe to an interactive table.\"\n",
              "            style=\"display:none;\">\n",
              "\n",
              "  <svg xmlns=\"http://www.w3.org/2000/svg\" height=\"24px\" viewBox=\"0 -960 960 960\">\n",
              "    <path d=\"M120-120v-720h720v720H120Zm60-500h600v-160H180v160Zm220 220h160v-160H400v160Zm0 220h160v-160H400v160ZM180-400h160v-160H180v160Zm440 0h160v-160H620v160ZM180-180h160v-160H180v160Zm440 0h160v-160H620v160Z\"/>\n",
              "  </svg>\n",
              "    </button>\n",
              "\n",
              "  <style>\n",
              "    .colab-df-container {\n",
              "      display:flex;\n",
              "      gap: 12px;\n",
              "    }\n",
              "\n",
              "    .colab-df-convert {\n",
              "      background-color: #E8F0FE;\n",
              "      border: none;\n",
              "      border-radius: 50%;\n",
              "      cursor: pointer;\n",
              "      display: none;\n",
              "      fill: #1967D2;\n",
              "      height: 32px;\n",
              "      padding: 0 0 0 0;\n",
              "      width: 32px;\n",
              "    }\n",
              "\n",
              "    .colab-df-convert:hover {\n",
              "      background-color: #E2EBFA;\n",
              "      box-shadow: 0px 1px 2px rgba(60, 64, 67, 0.3), 0px 1px 3px 1px rgba(60, 64, 67, 0.15);\n",
              "      fill: #174EA6;\n",
              "    }\n",
              "\n",
              "    .colab-df-buttons div {\n",
              "      margin-bottom: 4px;\n",
              "    }\n",
              "\n",
              "    [theme=dark] .colab-df-convert {\n",
              "      background-color: #3B4455;\n",
              "      fill: #D2E3FC;\n",
              "    }\n",
              "\n",
              "    [theme=dark] .colab-df-convert:hover {\n",
              "      background-color: #434B5C;\n",
              "      box-shadow: 0px 1px 3px 1px rgba(0, 0, 0, 0.15);\n",
              "      filter: drop-shadow(0px 1px 2px rgba(0, 0, 0, 0.3));\n",
              "      fill: #FFFFFF;\n",
              "    }\n",
              "  </style>\n",
              "\n",
              "    <script>\n",
              "      const buttonEl =\n",
              "        document.querySelector('#df-93494969-83b7-456d-9a6f-610cf0e4c6a3 button.colab-df-convert');\n",
              "      buttonEl.style.display =\n",
              "        google.colab.kernel.accessAllowed ? 'block' : 'none';\n",
              "\n",
              "      async function convertToInteractive(key) {\n",
              "        const element = document.querySelector('#df-93494969-83b7-456d-9a6f-610cf0e4c6a3');\n",
              "        const dataTable =\n",
              "          await google.colab.kernel.invokeFunction('convertToInteractive',\n",
              "                                                    [key], {});\n",
              "        if (!dataTable) return;\n",
              "\n",
              "        const docLinkHtml = 'Like what you see? Visit the ' +\n",
              "          '<a target=\"_blank\" href=https://colab.research.google.com/notebooks/data_table.ipynb>data table notebook</a>'\n",
              "          + ' to learn more about interactive tables.';\n",
              "        element.innerHTML = '';\n",
              "        dataTable['output_type'] = 'display_data';\n",
              "        await google.colab.output.renderOutput(dataTable, element);\n",
              "        const docLink = document.createElement('div');\n",
              "        docLink.innerHTML = docLinkHtml;\n",
              "        element.appendChild(docLink);\n",
              "      }\n",
              "    </script>\n",
              "  </div>\n",
              "\n",
              "\n",
              "<div id=\"df-0065ff69-a88d-46b8-9729-e5f7f472f35e\">\n",
              "  <button class=\"colab-df-quickchart\" onclick=\"quickchart('df-0065ff69-a88d-46b8-9729-e5f7f472f35e')\"\n",
              "            title=\"Suggest charts.\"\n",
              "            style=\"display:none;\">\n",
              "\n",
              "<svg xmlns=\"http://www.w3.org/2000/svg\" height=\"24px\"viewBox=\"0 0 24 24\"\n",
              "     width=\"24px\">\n",
              "    <g>\n",
              "        <path d=\"M19 3H5c-1.1 0-2 .9-2 2v14c0 1.1.9 2 2 2h14c1.1 0 2-.9 2-2V5c0-1.1-.9-2-2-2zM9 17H7v-7h2v7zm4 0h-2V7h2v10zm4 0h-2v-4h2v4z\"/>\n",
              "    </g>\n",
              "</svg>\n",
              "  </button>\n",
              "\n",
              "<style>\n",
              "  .colab-df-quickchart {\n",
              "      --bg-color: #E8F0FE;\n",
              "      --fill-color: #1967D2;\n",
              "      --hover-bg-color: #E2EBFA;\n",
              "      --hover-fill-color: #174EA6;\n",
              "      --disabled-fill-color: #AAA;\n",
              "      --disabled-bg-color: #DDD;\n",
              "  }\n",
              "\n",
              "  [theme=dark] .colab-df-quickchart {\n",
              "      --bg-color: #3B4455;\n",
              "      --fill-color: #D2E3FC;\n",
              "      --hover-bg-color: #434B5C;\n",
              "      --hover-fill-color: #FFFFFF;\n",
              "      --disabled-bg-color: #3B4455;\n",
              "      --disabled-fill-color: #666;\n",
              "  }\n",
              "\n",
              "  .colab-df-quickchart {\n",
              "    background-color: var(--bg-color);\n",
              "    border: none;\n",
              "    border-radius: 50%;\n",
              "    cursor: pointer;\n",
              "    display: none;\n",
              "    fill: var(--fill-color);\n",
              "    height: 32px;\n",
              "    padding: 0;\n",
              "    width: 32px;\n",
              "  }\n",
              "\n",
              "  .colab-df-quickchart:hover {\n",
              "    background-color: var(--hover-bg-color);\n",
              "    box-shadow: 0 1px 2px rgba(60, 64, 67, 0.3), 0 1px 3px 1px rgba(60, 64, 67, 0.15);\n",
              "    fill: var(--button-hover-fill-color);\n",
              "  }\n",
              "\n",
              "  .colab-df-quickchart-complete:disabled,\n",
              "  .colab-df-quickchart-complete:disabled:hover {\n",
              "    background-color: var(--disabled-bg-color);\n",
              "    fill: var(--disabled-fill-color);\n",
              "    box-shadow: none;\n",
              "  }\n",
              "\n",
              "  .colab-df-spinner {\n",
              "    border: 2px solid var(--fill-color);\n",
              "    border-color: transparent;\n",
              "    border-bottom-color: var(--fill-color);\n",
              "    animation:\n",
              "      spin 1s steps(1) infinite;\n",
              "  }\n",
              "\n",
              "  @keyframes spin {\n",
              "    0% {\n",
              "      border-color: transparent;\n",
              "      border-bottom-color: var(--fill-color);\n",
              "      border-left-color: var(--fill-color);\n",
              "    }\n",
              "    20% {\n",
              "      border-color: transparent;\n",
              "      border-left-color: var(--fill-color);\n",
              "      border-top-color: var(--fill-color);\n",
              "    }\n",
              "    30% {\n",
              "      border-color: transparent;\n",
              "      border-left-color: var(--fill-color);\n",
              "      border-top-color: var(--fill-color);\n",
              "      border-right-color: var(--fill-color);\n",
              "    }\n",
              "    40% {\n",
              "      border-color: transparent;\n",
              "      border-right-color: var(--fill-color);\n",
              "      border-top-color: var(--fill-color);\n",
              "    }\n",
              "    60% {\n",
              "      border-color: transparent;\n",
              "      border-right-color: var(--fill-color);\n",
              "    }\n",
              "    80% {\n",
              "      border-color: transparent;\n",
              "      border-right-color: var(--fill-color);\n",
              "      border-bottom-color: var(--fill-color);\n",
              "    }\n",
              "    90% {\n",
              "      border-color: transparent;\n",
              "      border-bottom-color: var(--fill-color);\n",
              "    }\n",
              "  }\n",
              "</style>\n",
              "\n",
              "  <script>\n",
              "    async function quickchart(key) {\n",
              "      const quickchartButtonEl =\n",
              "        document.querySelector('#' + key + ' button');\n",
              "      quickchartButtonEl.disabled = true;  // To prevent multiple clicks.\n",
              "      quickchartButtonEl.classList.add('colab-df-spinner');\n",
              "      try {\n",
              "        const charts = await google.colab.kernel.invokeFunction(\n",
              "            'suggestCharts', [key], {});\n",
              "      } catch (error) {\n",
              "        console.error('Error during call to suggestCharts:', error);\n",
              "      }\n",
              "      quickchartButtonEl.classList.remove('colab-df-spinner');\n",
              "      quickchartButtonEl.classList.add('colab-df-quickchart-complete');\n",
              "    }\n",
              "    (() => {\n",
              "      let quickchartButtonEl =\n",
              "        document.querySelector('#df-0065ff69-a88d-46b8-9729-e5f7f472f35e button');\n",
              "      quickchartButtonEl.style.display =\n",
              "        google.colab.kernel.accessAllowed ? 'block' : 'none';\n",
              "    })();\n",
              "  </script>\n",
              "</div>\n",
              "    </div>\n",
              "  </div>\n"
            ]
          },
          "metadata": {},
          "execution_count": 154
        }
      ]
    },
    {
      "cell_type": "code",
      "source": [
        "df_new=df['Close']\n",
        "#Get the last 60 day closing price values and convert the dataframe to an array\n",
        "last_60_days=df_new[-60:].values\n",
        "last_60_days = last_60_days.reshape(-1, 1) #check\n",
        "# Scale the data to be between 0 to 1\n",
        "last_60_days_scaled = scaler.transform(last_60_days)\n",
        "#create an empty list\n",
        "x_test=[]\n",
        "#Append the past 60 days\n",
        "x_test.append(last_60_days_scaled)\n",
        "#Convert the x_test dataset to a numpy array\n",
        "x_test = np.array(x_test)\n",
        "#Reshape the data\n",
        "x_test=np.reshape(x_test, (x_test.shape[0],x_test.shape[1],1))\n",
        "#Get the predicted scaled price\n",
        "pred_price =model.predict(x_test)\n",
        "# Undo the scaling\n",
        "pred_price=scaler.inverse_transform(pred_price)\n",
        "print(pred_price)"
      ],
      "metadata": {
        "colab": {
          "base_uri": "https://localhost:8080/"
        },
        "id": "mRpJD4J28ABc",
        "outputId": "86387dd5-d757-4c4d-da56-f682c4db6e5a"
      },
      "execution_count": null,
      "outputs": [
        {
          "output_type": "stream",
          "name": "stdout",
          "text": [
            "1/1 [==============================] - 0s 17ms/step\n",
            "[[99.24132]]\n"
          ]
        }
      ]
    }
  ]
}