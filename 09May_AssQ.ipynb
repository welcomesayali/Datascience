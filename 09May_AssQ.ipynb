{
 "cells": [
  {
   "cell_type": "code",
   "execution_count": 1,
   "id": "ec797326-9320-4358-84a4-6c7843066bc6",
   "metadata": {},
   "outputs": [
    {
     "name": "stdout",
     "output_type": "stream",
     "text": [
      "Data Science\n"
     ]
    }
   ],
   "source": [
    "# create a variable containing string:\n",
    "str1=\"Data Science\"\n",
    "print(str1)"
   ]
  },
  {
   "cell_type": "code",
   "execution_count": 2,
   "id": "69705c9c-7351-46c0-9ea6-94db64e3567a",
   "metadata": {},
   "outputs": [
    {
     "data": {
      "text/plain": [
       "str"
      ]
     },
     "execution_count": 2,
     "metadata": {},
     "output_type": "execute_result"
    }
   ],
   "source": [
    "type(str1)"
   ]
  },
  {
   "cell_type": "code",
   "execution_count": 4,
   "id": "d78ee025-3c17-4301-a97c-3f93dc56993b",
   "metadata": {},
   "outputs": [
    {
     "name": "stdout",
     "output_type": "stream",
     "text": [
      "['s', 'a', 'y', 'a', 'l', 'i']\n"
     ]
    }
   ],
   "source": [
    "lst=[\"s\",\"a\",\"y\",\"a\",\"l\",\"i\"]\n",
    "print(lst)"
   ]
  },
  {
   "cell_type": "code",
   "execution_count": 5,
   "id": "f90df39d-0e9e-462f-8ad7-60e7f4db02d2",
   "metadata": {},
   "outputs": [
    {
     "data": {
      "text/plain": [
       "list"
      ]
     },
     "execution_count": 5,
     "metadata": {},
     "output_type": "execute_result"
    }
   ],
   "source": [
    "type(lst)"
   ]
  },
  {
   "cell_type": "code",
   "execution_count": 7,
   "id": "52e4de9c-df08-4f57-8e67-63013f4ad63c",
   "metadata": {},
   "outputs": [
    {
     "name": "stdout",
     "output_type": "stream",
     "text": [
      "5.55\n"
     ]
    }
   ],
   "source": [
    "flt1=5.55\n",
    "print(flt1)"
   ]
  },
  {
   "cell_type": "code",
   "execution_count": 8,
   "id": "5624d2f4-157e-42e9-9a30-7bf01f756716",
   "metadata": {},
   "outputs": [
    {
     "data": {
      "text/plain": [
       "float"
      ]
     },
     "execution_count": 8,
     "metadata": {},
     "output_type": "execute_result"
    }
   ],
   "source": [
    "type(flt1)"
   ]
  },
  {
   "cell_type": "code",
   "execution_count": 9,
   "id": "b47127e1-4e76-4606-9679-1db520857f2e",
   "metadata": {},
   "outputs": [
    {
     "name": "stdout",
     "output_type": "stream",
     "text": [
      "('mango', 'banana', 'orange')\n"
     ]
    }
   ],
   "source": [
    "tupl=(\"mango\",\"banana\",\"orange\")\n",
    "print(tupl)"
   ]
  },
  {
   "cell_type": "code",
   "execution_count": 10,
   "id": "5f0d3576-d8b4-4687-a4d2-adf8355fe962",
   "metadata": {},
   "outputs": [
    {
     "data": {
      "text/plain": [
       "tuple"
      ]
     },
     "execution_count": 10,
     "metadata": {},
     "output_type": "execute_result"
    }
   ],
   "source": [
    "type(tupl)"
   ]
  },
  {
   "cell_type": "code",
   "execution_count": 14,
   "id": "a37b63e2-7377-44c3-bc81-3ddcc0df1f98",
   "metadata": {},
   "outputs": [
    {
     "data": {
      "text/plain": [
       "str"
      ]
     },
     "execution_count": 14,
     "metadata": {},
     "output_type": "execute_result"
    }
   ],
   "source": [
    "var2 = '[ DS , ML , Python]'\n",
    "type(var2)"
   ]
  },
  {
   "cell_type": "code",
   "execution_count": 17,
   "id": "a49829fb-68ca-4aaa-8566-59419e9cd5bd",
   "metadata": {},
   "outputs": [
    {
     "data": {
      "text/plain": [
       "list"
      ]
     },
     "execution_count": 17,
     "metadata": {},
     "output_type": "execute_result"
    }
   ],
   "source": [
    "var3 = ['DS','ML','Python']\n",
    "type(var3)"
   ]
  },
  {
   "cell_type": "code",
   "execution_count": 20,
   "id": "cc99f6eb-6a63-4324-b7ef-0fc0ce3fe303",
   "metadata": {},
   "outputs": [
    {
     "data": {
      "text/plain": [
       "str"
      ]
     },
     "execution_count": 20,
     "metadata": {},
     "output_type": "execute_result"
    }
   ],
   "source": [
    "var1 = ' '\n",
    "type(var1)"
   ]
  },
  {
   "cell_type": "code",
   "execution_count": 21,
   "id": "b2238e28-7cfb-4c83-a686-3a9627538de7",
   "metadata": {},
   "outputs": [
    {
     "data": {
      "text/plain": [
       "int"
      ]
     },
     "execution_count": 21,
     "metadata": {},
     "output_type": "execute_result"
    }
   ],
   "source": [
    "var4 = 1\n",
    "type(var4)"
   ]
  },
  {
   "cell_type": "code",
   "execution_count": 24,
   "id": "6a8d3b24-0e24-4f46-b9fe-479b9a6aaa09",
   "metadata": {},
   "outputs": [
    {
     "data": {
      "text/plain": [
       "2.5"
      ]
     },
     "execution_count": 24,
     "metadata": {},
     "output_type": "execute_result"
    }
   ],
   "source": [
    "# (i) division operator\n",
    "a=2\n",
    "b=5\n",
    "b/a"
   ]
  },
  {
   "cell_type": "code",
   "execution_count": 25,
   "id": "a80fe944-688d-4ded-8fbb-a581533cf2b2",
   "metadata": {},
   "outputs": [
    {
     "data": {
      "text/plain": [
       "2"
      ]
     },
     "execution_count": 25,
     "metadata": {},
     "output_type": "execute_result"
    }
   ],
   "source": [
    "# (ii) modulo operator---> output is the remainder\n",
    "a%b"
   ]
  },
  {
   "cell_type": "code",
   "execution_count": 27,
   "id": "6fb7f7f0-a37e-440c-8ca8-0a60d09d633d",
   "metadata": {},
   "outputs": [
    {
     "data": {
      "text/plain": [
       "2"
      ]
     },
     "execution_count": 27,
     "metadata": {},
     "output_type": "execute_result"
    }
   ],
   "source": [
    "# (iii) modulo operator---> output is the integer quotient\n",
    "b//a"
   ]
  },
  {
   "cell_type": "code",
   "execution_count": 28,
   "id": "1b4804d6-64e1-4666-9e0f-4108f4b7bfa6",
   "metadata": {},
   "outputs": [
    {
     "data": {
      "text/plain": [
       "32"
      ]
     },
     "execution_count": 28,
     "metadata": {},
     "output_type": "execute_result"
    }
   ],
   "source": [
    "# (iv) exponentiation operator---> output is the calculation of 1st number is power of 1st number\n",
    "a**b"
   ]
  },
  {
   "cell_type": "code",
   "execution_count": 35,
   "id": "a8a4a1cb-d56e-46d8-9d84-164e0857fd6b",
   "metadata": {},
   "outputs": [
    {
     "data": {
      "text/plain": [
       "10"
      ]
     },
     "execution_count": 35,
     "metadata": {},
     "output_type": "execute_result"
    }
   ],
   "source": [
    "# list of length 10 \n",
    "type1=[1,\"one\",[3,4,5],\"data science\",1.1,(\"mango\",\"orange\"),{\"a\",\"b\"},True,1+2j,10]\n",
    "len(lst)"
   ]
  },
  {
   "cell_type": "code",
   "execution_count": 36,
   "id": "1981756a-8125-439a-9f80-412fff2aab30",
   "metadata": {},
   "outputs": [
    {
     "name": "stdout",
     "output_type": "stream",
     "text": [
      "The element is:1 and its datatype is:<class 'int'>\n",
      "The element is:one and its datatype is:<class 'str'>\n",
      "The element is:[3, 4, 5] and its datatype is:<class 'list'>\n",
      "The element is:data science and its datatype is:<class 'str'>\n",
      "The element is:1.1 and its datatype is:<class 'float'>\n",
      "The element is:('mango', 'orange') and its datatype is:<class 'tuple'>\n",
      "The element is:{'b', 'a'} and its datatype is:<class 'set'>\n",
      "The element is:True and its datatype is:<class 'bool'>\n",
      "The element is:(1+2j) and its datatype is:<class 'complex'>\n",
      "The element is:10 and its datatype is:<class 'int'>\n"
     ]
    }
   ],
   "source": [
    "for i in type1:\n",
    "    print(f\"The element is:{i} and its datatype is:{type(i)}\")"
   ]
  },
  {
   "cell_type": "code",
   "execution_count": null,
   "id": "3d14d879-82df-446f-a3bb-b7bae848d3ab",
   "metadata": {},
   "outputs": [],
   "source": [
    "a=16\n",
    "b=2\n",
    "i=0\n",
    "while ((a%b)==0):\n",
    "        a=a/b\n",
    "        i+=1\n",
    "print(i)"
   ]
  },
  {
   "cell_type": "code",
   "execution_count": null,
   "id": "77424be1-22c6-442c-9d6a-0667d43c27e9",
   "metadata": {},
   "outputs": [],
   "source": []
  },
  {
   "cell_type": "code",
   "execution_count": null,
   "id": "35ecbf4d-de4a-4e70-ac4b-6ab433ca6fca",
   "metadata": {},
   "outputs": [],
   "source": []
  },
  {
   "cell_type": "code",
   "execution_count": null,
   "id": "5fdef559-27b5-4da3-9480-c312566da245",
   "metadata": {},
   "outputs": [],
   "source": []
  }
 ],
 "metadata": {
  "kernelspec": {
   "display_name": "Python 3 (ipykernel)",
   "language": "python",
   "name": "python3"
  },
  "language_info": {
   "codemirror_mode": {
    "name": "ipython",
    "version": 3
   },
   "file_extension": ".py",
   "mimetype": "text/x-python",
   "name": "python",
   "nbconvert_exporter": "python",
   "pygments_lexer": "ipython3",
   "version": "3.10.8"
  }
 },
 "nbformat": 4,
 "nbformat_minor": 5
}
