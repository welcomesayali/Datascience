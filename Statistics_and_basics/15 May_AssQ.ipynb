{
 "cells": [
  {
   "cell_type": "code",
   "execution_count": null,
   "id": "8d3bcd2c",
   "metadata": {},
   "outputs": [],
   "source": [
    "\"\"\" There are two types of comments : 1. single line comment 2. multi-line comment\n",
    "WE can comment with these symbols #,\"\"\"  \"\"\"a multiline string --triple quotes) \n",
    "\n",
    "single line Comments starts with a #\n",
    "\n",
    "This is a comment\n",
    "written in\n",
    "more than just one line\n",
    "\"\"\""
   ]
  },
  {
   "cell_type": "code",
   "execution_count": null,
   "id": "174caa53",
   "metadata": {},
   "outputs": [],
   "source": [
    "#Variables are nothing but reserved memory locations to store values.\n",
    "# variables can be assigned value with the help of assignment operator.\n",
    "# data types you can store are integers, decimals or characters in these variables.\n",
    "#Python has data types −Numbers,String,List,Tuple,Dictionary that can also be stored using a variable\n",
    "# eg. a=2 ,b=2.0 , c= \"data science\" ,d=  [123, 'john'] ,e= ( 'abcd', 786 , 2.23, 'john') ,f ={'name': 'john', 'dept': 'sales', 'code': 6734}\n"
   ]
  },
  {
   "cell_type": "code",
   "execution_count": 2,
   "id": "0cea4901",
   "metadata": {},
   "outputs": [
    {
     "name": "stdout",
     "output_type": "stream",
     "text": [
      "x is of type: <class 'int'>\n",
      "y is of type: <class 'float'>\n",
      "20.6\n",
      "z is of type: <class 'float'>\n"
     ]
    }
   ],
   "source": [
    "#type conversion functions can be used to directly convert one data type to another\n",
    "#There are two types of Type Conversion in Python: Implicit Type Conversion ,Explicit Type Conversion\n",
    "# implicit type conversion: Python interpreter automatically converts one data type to another without any user involvement.\n",
    "#eg:\n",
    "x = 10\n",
    "print(\"x is of type:\",type(x))\n",
    "  \n",
    "y = 10.6\n",
    "print(\"y is of type:\",type(y))\n",
    "  \n",
    "z = x + y\n",
    "  \n",
    "print(z)\n",
    "print(\"z is of type:\",type(z))"
   ]
  },
  {
   "cell_type": "code",
   "execution_count": 3,
   "id": "4b6a2935",
   "metadata": {},
   "outputs": [
    {
     "name": "stdout",
     "output_type": "stream",
     "text": [
      "After converting string to tuple : ('g', 'e', 'e', 'k', 's')\n"
     ]
    }
   ],
   "source": [
    "#Explicit type conversion :the data type is manually changed by the user as per the requirement.\n",
    "#eg:\n",
    "s = 'geeks'\n",
    "  \n",
    "# printing string converting to tuple\n",
    "c = tuple(s)\n",
    "print (\"After converting string to tuple : \",end=\"\")\n",
    "print (c)"
   ]
  },
  {
   "cell_type": "code",
   "execution_count": 4,
   "id": "b172d589",
   "metadata": {},
   "outputs": [
    {
     "name": "stdout",
     "output_type": "stream",
     "text": [
      "After converting string to set : {'s', 'k', 'g', 'e'}\n"
     ]
    }
   ],
   "source": [
    "# printing string converting to set\n",
    "c = set(s)\n",
    "print (\"After converting string to set : \",end=\"\")\n",
    "print (c)"
   ]
  },
  {
   "cell_type": "code",
   "execution_count": 5,
   "id": "b17bd4d6",
   "metadata": {},
   "outputs": [
    {
     "name": "stdout",
     "output_type": "stream",
     "text": [
      "After converting string to list : ['g', 'e', 'e', 'k', 's']\n"
     ]
    }
   ],
   "source": [
    "# printing string converting to list\n",
    "c = list(s)\n",
    "print (\"After converting string to list : \",end=\"\")\n",
    "print (c)"
   ]
  },
  {
   "cell_type": "code",
   "execution_count": null,
   "id": "f76d3e2e",
   "metadata": {},
   "outputs": [],
   "source": [
    "# We can write a python script in notepad and save as \"filename.py\" (with python file extension)\n",
    "#To execute script from command line\n",
    "#To run the script,you can call the Python program from the Command Prompt and tell it which file to execute. \n",
    "# From the Command Prompt, simply type: python filename.py \n",
    "#(type in the word ‘python’ followed by the name of the python file)"
   ]
  },
  {
   "cell_type": "code",
   "execution_count": 6,
   "id": "da614277",
   "metadata": {},
   "outputs": [
    {
     "name": "stdout",
     "output_type": "stream",
     "text": [
      "[2, 3]\n"
     ]
    }
   ],
   "source": [
    "#Q5\n",
    "my_list = [1, 2, 3, 4, 5]\n",
    "print(my_list[1:3])"
   ]
  },
  {
   "cell_type": "code",
   "execution_count": 7,
   "id": "6f2c9947",
   "metadata": {},
   "outputs": [
    {
     "name": "stdout",
     "output_type": "stream",
     "text": [
      "(2+3j)\n"
     ]
    }
   ],
   "source": [
    "#A complex number is the sum of a real number and an imaginary number. A complex number is of the form a + ib and is usually represented by z.\n",
    "#In python,complex numbers are represented using the “complex” data type, which consists of a “real” and an “imaginary” component which is represented by j\n",
    "#To create the complex number “2 + 3j”, write the following code statement:\n",
    "z = complex(2, 3)\n",
    "print(z)"
   ]
  },
  {
   "cell_type": "code",
   "execution_count": 8,
   "id": "f42b39a3",
   "metadata": {},
   "outputs": [
    {
     "data": {
      "text/plain": [
       "25"
      ]
     },
     "execution_count": 8,
     "metadata": {},
     "output_type": "execute_result"
    }
   ],
   "source": [
    "age =25\n",
    "age"
   ]
  },
  {
   "cell_type": "code",
   "execution_count": 9,
   "id": "74778e8e",
   "metadata": {},
   "outputs": [
    {
     "name": "stdout",
     "output_type": "stream",
     "text": [
      "<class 'float'>\n"
     ]
    }
   ],
   "source": [
    "price = 9.99\n",
    "print(type(price))"
   ]
  },
  {
   "cell_type": "code",
   "execution_count": 10,
   "id": "7a46ed5a",
   "metadata": {},
   "outputs": [
    {
     "name": "stdout",
     "output_type": "stream",
     "text": [
      "sayali patil\n"
     ]
    }
   ],
   "source": [
    "name =\"sayali patil\"\n",
    "print(name)"
   ]
  },
  {
   "cell_type": "code",
   "execution_count": 11,
   "id": "09cc1fca",
   "metadata": {},
   "outputs": [
    {
     "data": {
      "text/plain": [
       "'World'"
      ]
     },
     "execution_count": 11,
     "metadata": {},
     "output_type": "execute_result"
    }
   ],
   "source": [
    "a=\"Hello, World!\"\n",
    "a[-6:-1]"
   ]
  },
  {
   "cell_type": "code",
   "execution_count": 12,
   "id": "7ff287e2",
   "metadata": {},
   "outputs": [],
   "source": [
    "is_student = True"
   ]
  },
  {
   "cell_type": "code",
   "execution_count": 13,
   "id": "81f95161",
   "metadata": {},
   "outputs": [
    {
     "name": "stdout",
     "output_type": "stream",
     "text": [
      "<class 'bool'>\n"
     ]
    }
   ],
   "source": [
    "print(type(is_student))"
   ]
  },
  {
   "cell_type": "code",
   "execution_count": null,
   "id": "c98331ae",
   "metadata": {},
   "outputs": [],
   "source": []
  }
 ],
 "metadata": {
  "kernelspec": {
   "display_name": "Python 3 (ipykernel)",
   "language": "python",
   "name": "python3"
  },
  "language_info": {
   "codemirror_mode": {
    "name": "ipython",
    "version": 3
   },
   "file_extension": ".py",
   "mimetype": "text/x-python",
   "name": "python",
   "nbconvert_exporter": "python",
   "pygments_lexer": "ipython3",
   "version": "3.11.4"
  }
 },
 "nbformat": 4,
 "nbformat_minor": 5
}
