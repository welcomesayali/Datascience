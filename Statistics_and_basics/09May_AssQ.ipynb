{
 "cells": [
  {
   "cell_type": "code",
   "execution_count": 1,
   "id": "ec797326-9320-4358-84a4-6c7843066bc6",
   "metadata": {},
   "outputs": [
    {
     "name": "stdout",
     "output_type": "stream",
     "text": [
      "Data Science\n"
     ]
    }
   ],
   "source": [
    "# create a variable containing string:\n",
    "str1=\"Data Science\"\n",
    "print(str1)"
   ]
  },
  {
   "cell_type": "code",
   "execution_count": 2,
   "id": "69705c9c-7351-46c0-9ea6-94db64e3567a",
   "metadata": {},
   "outputs": [
    {
     "data": {
      "text/plain": [
       "str"
      ]
     },
     "execution_count": 2,
     "metadata": {},
     "output_type": "execute_result"
    }
   ],
   "source": [
    "type(str1)"
   ]
  },
  {
   "cell_type": "code",
   "execution_count": 4,
   "id": "d78ee025-3c17-4301-a97c-3f93dc56993b",
   "metadata": {},
   "outputs": [
    {
     "name": "stdout",
     "output_type": "stream",
     "text": [
      "['s', 'a', 'y', 'a', 'l', 'i']\n"
     ]
    }
   ],
   "source": [
    "lst=[\"s\",\"a\",\"y\",\"a\",\"l\",\"i\"]\n",
    "print(lst)"
   ]
  },
  {
   "cell_type": "code",
   "execution_count": 5,
   "id": "f90df39d-0e9e-462f-8ad7-60e7f4db02d2",
   "metadata": {},
   "outputs": [
    {
     "data": {
      "text/plain": [
       "list"
      ]
     },
     "execution_count": 5,
     "metadata": {},
     "output_type": "execute_result"
    }
   ],
   "source": [
    "type(lst)"
   ]
  },
  {
   "cell_type": "code",
   "execution_count": 7,
   "id": "52e4de9c-df08-4f57-8e67-63013f4ad63c",
   "metadata": {},
   "outputs": [
    {
     "name": "stdout",
     "output_type": "stream",
     "text": [
      "5.55\n"
     ]
    }
   ],
   "source": [
    "flt1=5.55\n",
    "print(flt1)"
   ]
  },
  {
   "cell_type": "code",
   "execution_count": 8,
   "id": "5624d2f4-157e-42e9-9a30-7bf01f756716",
   "metadata": {},
   "outputs": [
    {
     "data": {
      "text/plain": [
       "float"
      ]
     },
     "execution_count": 8,
     "metadata": {},
     "output_type": "execute_result"
    }
   ],
   "source": [
    "type(flt1)"
   ]
  },
  {
   "cell_type": "code",
   "execution_count": 9,
   "id": "b47127e1-4e76-4606-9679-1db520857f2e",
   "metadata": {},
   "outputs": [
    {
     "name": "stdout",
     "output_type": "stream",
     "text": [
      "('mango', 'banana', 'orange')\n"
     ]
    }
   ],
   "source": [
    "tupl=(\"mango\",\"banana\",\"orange\")\n",
    "print(tupl)"
   ]
  },
  {
   "cell_type": "code",
   "execution_count": 10,
   "id": "5f0d3576-d8b4-4687-a4d2-adf8355fe962",
   "metadata": {},
   "outputs": [
    {
     "data": {
      "text/plain": [
       "tuple"
      ]
     },
     "execution_count": 10,
     "metadata": {},
     "output_type": "execute_result"
    }
   ],
   "source": [
    "type(tupl)"
   ]
  },
  {
   "cell_type": "code",
   "execution_count": 14,
   "id": "a37b63e2-7377-44c3-bc81-3ddcc0df1f98",
   "metadata": {},
   "outputs": [
    {
     "data": {
      "text/plain": [
       "str"
      ]
     },
     "execution_count": 14,
     "metadata": {},
     "output_type": "execute_result"
    }
   ],
   "source": [
    "var2 = '[ DS , ML , Python]'\n",
    "type(var2)"
   ]
  },
  {
   "cell_type": "code",
   "execution_count": 17,
   "id": "a49829fb-68ca-4aaa-8566-59419e9cd5bd",
   "metadata": {},
   "outputs": [
    {
     "data": {
      "text/plain": [
       "list"
      ]
     },
     "execution_count": 17,
     "metadata": {},
     "output_type": "execute_result"
    }
   ],
   "source": [
    "var3 = ['DS','ML','Python']\n",
    "type(var3)"
   ]
  },
  {
   "cell_type": "code",
   "execution_count": 20,
   "id": "cc99f6eb-6a63-4324-b7ef-0fc0ce3fe303",
   "metadata": {},
   "outputs": [
    {
     "data": {
      "text/plain": [
       "str"
      ]
     },
     "execution_count": 20,
     "metadata": {},
     "output_type": "execute_result"
    }
   ],
   "source": [
    "var1 = ' '\n",
    "type(var1)"
   ]
  },
  {
   "cell_type": "code",
   "execution_count": 21,
   "id": "b2238e28-7cfb-4c83-a686-3a9627538de7",
   "metadata": {},
   "outputs": [
    {
     "data": {
      "text/plain": [
       "int"
      ]
     },
     "execution_count": 21,
     "metadata": {},
     "output_type": "execute_result"
    }
   ],
   "source": [
    "var4 = 1\n",
    "type(var4)"
   ]
  },
  {
   "cell_type": "code",
   "execution_count": 24,
   "id": "6a8d3b24-0e24-4f46-b9fe-479b9a6aaa09",
   "metadata": {},
   "outputs": [
    {
     "data": {
      "text/plain": [
       "2.5"
      ]
     },
     "execution_count": 24,
     "metadata": {},
     "output_type": "execute_result"
    }
   ],
   "source": [
    "# (i) division operator\n",
    "a=2\n",
    "b=5\n",
    "b/a"
   ]
  },
  {
   "cell_type": "code",
   "execution_count": 25,
   "id": "a80fe944-688d-4ded-8fbb-a581533cf2b2",
   "metadata": {},
   "outputs": [
    {
     "data": {
      "text/plain": [
       "2"
      ]
     },
     "execution_count": 25,
     "metadata": {},
     "output_type": "execute_result"
    }
   ],
   "source": [
    "# (ii) modulo operator---> output is the remainder\n",
    "a%b"
   ]
  },
  {
   "cell_type": "code",
   "execution_count": 27,
   "id": "6fb7f7f0-a37e-440c-8ca8-0a60d09d633d",
   "metadata": {},
   "outputs": [
    {
     "data": {
      "text/plain": [
       "2"
      ]
     },
     "execution_count": 27,
     "metadata": {},
     "output_type": "execute_result"
    }
   ],
   "source": [
    "# (iii) modulo operator---> output is the integer quotient\n",
    "b//a"
   ]
  },
  {
   "cell_type": "code",
   "execution_count": 28,
   "id": "1b4804d6-64e1-4666-9e0f-4108f4b7bfa6",
   "metadata": {},
   "outputs": [
    {
     "data": {
      "text/plain": [
       "32"
      ]
     },
     "execution_count": 28,
     "metadata": {},
     "output_type": "execute_result"
    }
   ],
   "source": [
    "# (iv) exponentiation operator---> output is the calculation of 1st number is power of 1st number\n",
    "a**b"
   ]
  },
  {
   "cell_type": "code",
   "execution_count": 35,
   "id": "a8a4a1cb-d56e-46d8-9d84-164e0857fd6b",
   "metadata": {},
   "outputs": [
    {
     "data": {
      "text/plain": [
       "10"
      ]
     },
     "execution_count": 35,
     "metadata": {},
     "output_type": "execute_result"
    }
   ],
   "source": [
    "# list of length 10 \n",
    "type1=[1,\"one\",[3,4,5],\"data science\",1.1,(\"mango\",\"orange\"),{\"a\",\"b\"},True,1+2j,10]\n",
    "len(lst)"
   ]
  },
  {
   "cell_type": "code",
   "execution_count": 36,
   "id": "1981756a-8125-439a-9f80-412fff2aab30",
   "metadata": {},
   "outputs": [
    {
     "name": "stdout",
     "output_type": "stream",
     "text": [
      "The element is:1 and its datatype is:<class 'int'>\n",
      "The element is:one and its datatype is:<class 'str'>\n",
      "The element is:[3, 4, 5] and its datatype is:<class 'list'>\n",
      "The element is:data science and its datatype is:<class 'str'>\n",
      "The element is:1.1 and its datatype is:<class 'float'>\n",
      "The element is:('mango', 'orange') and its datatype is:<class 'tuple'>\n",
      "The element is:{'b', 'a'} and its datatype is:<class 'set'>\n",
      "The element is:True and its datatype is:<class 'bool'>\n",
      "The element is:(1+2j) and its datatype is:<class 'complex'>\n",
      "The element is:10 and its datatype is:<class 'int'>\n"
     ]
    }
   ],
   "source": [
    "for i in type1:\n",
    "    print(f\"The element is:{i} and its datatype is:{type(i)}\")"
   ]
  },
  {
   "cell_type": "code",
   "execution_count": 3,
   "id": "3d14d879-82df-446f-a3bb-b7bae848d3ab",
   "metadata": {},
   "outputs": [
    {
     "name": "stdout",
     "output_type": "stream",
     "text": [
      "The number is divisible 4 times\n"
     ]
    }
   ],
   "source": [
    "a=16\n",
    "b=2\n",
    "i=0\n",
    "while ((a%b)==0):\n",
    "        a=a/b\n",
    "        i+=1\n",
    "print(f\"The number is divisible {i} times\")"
   ]
  },
  {
   "cell_type": "code",
   "execution_count": 17,
   "id": "77424be1-22c6-442c-9d6a-0667d43c27e9",
   "metadata": {},
   "outputs": [
    {
     "name": "stdout",
     "output_type": "stream",
     "text": [
      "The element 1 is not divisible by 3\n",
      "The element 2 is not divisible by 3\n",
      "The element 3 is divisible by 3\n",
      "The element 4 is not divisible by 3\n",
      "The element 5 is not divisible by 3\n",
      "The element 6 is divisible by 3\n",
      "The element 7 is not divisible by 3\n",
      "The element 8 is not divisible by 3\n",
      "The element 9 is divisible by 3\n",
      "The element 10 is not divisible by 3\n",
      "The element 11 is not divisible by 3\n",
      "The element 12 is divisible by 3\n",
      "The element 13 is not divisible by 3\n",
      "The element 14 is not divisible by 3\n",
      "The element 15 is divisible by 3\n",
      "The element 16 is not divisible by 3\n",
      "The element 17 is not divisible by 3\n",
      "The element 18 is divisible by 3\n",
      "The element 19 is not divisible by 3\n",
      "The element 20 is not divisible by 3\n",
      "The element 21 is divisible by 3\n",
      "The element 22 is not divisible by 3\n",
      "The element 23 is not divisible by 3\n",
      "The element 24 is divisible by 3\n",
      "The element 25 is not divisible by 3\n"
     ]
    }
   ],
   "source": [
    "\"\"\" list containing 25 int type data. Using for loop and if-else condition print if the element is \n",
    "divisible by 3 or not\"\"\"\n",
    "\n",
    "lst=[1,2,3,4,5,6,7,8,9,10,11,12,13,14,15,16,17,18,19,20,21,22,23,24,25]\n",
    "for i in range(len(lst)):\n",
    "    if ((lst[i])%3)==0:\n",
    "        print(f\"The element {lst[i]} is divisible by 3\")\n",
    "    else:\n",
    "        print(f\"The element {lst[i]} is not divisible by 3\")\n"
   ]
  },
  {
   "cell_type": "code",
   "execution_count": 18,
   "id": "35ecbf4d-de4a-4e70-ac4b-6ab433ca6fca",
   "metadata": {},
   "outputs": [
    {
     "data": {
      "text/plain": [
       "1"
      ]
     },
     "execution_count": 18,
     "metadata": {},
     "output_type": "execute_result"
    }
   ],
   "source": [
    "# mutable and immutable datatypes\n",
    "\"\"\"Mutable datatypes are the ones whose value can be changes while immutable object's value cannot be modified.\n",
    "List object is mutable whereas string object is immutable\"\"\"\n",
    "#eg. list\n",
    "lst1=[1,2,3,4,5]\n",
    "lst[0]\n"
   ]
  },
  {
   "cell_type": "code",
   "execution_count": 21,
   "id": "5fdef559-27b5-4da3-9480-c312566da245",
   "metadata": {},
   "outputs": [
    {
     "name": "stdout",
     "output_type": "stream",
     "text": [
      "[2, 2, 3, 4, 5]\n"
     ]
    }
   ],
   "source": [
    "lst1[0]=2\n",
    "print(lst1)"
   ]
  },
  {
   "cell_type": "code",
   "execution_count": 22,
   "id": "29b20f64-3ff1-44bd-baec-215b2075b845",
   "metadata": {},
   "outputs": [
    {
     "data": {
      "text/plain": [
       "'D'"
      ]
     },
     "execution_count": 22,
     "metadata": {},
     "output_type": "execute_result"
    }
   ],
   "source": [
    "#string\n",
    "str1=\"Data\"\n",
    "str1[0]"
   ]
  },
  {
   "cell_type": "code",
   "execution_count": 27,
   "id": "569d7c00-2e45-4931-9b7e-7543b3cee4af",
   "metadata": {},
   "outputs": [
    {
     "ename": "TypeError",
     "evalue": "'str' object does not support item assignment",
     "output_type": "error",
     "traceback": [
      "\u001b[0;31m---------------------------------------------------------------------------\u001b[0m",
      "\u001b[0;31mTypeError\u001b[0m                                 Traceback (most recent call last)",
      "Cell \u001b[0;32mIn[27], line 1\u001b[0m\n\u001b[0;32m----> 1\u001b[0m \u001b[43mstr1\u001b[49m\u001b[43m[\u001b[49m\u001b[38;5;241;43m0\u001b[39;49m\u001b[43m]\u001b[49m\u001b[38;5;241m=\u001b[39m\u001b[38;5;124m'\u001b[39m\u001b[38;5;124mN\u001b[39m\u001b[38;5;124m'\u001b[39m\n\u001b[1;32m      2\u001b[0m \u001b[38;5;28mprint\u001b[39m(str1[\u001b[38;5;241m0\u001b[39m])\n",
      "\u001b[0;31mTypeError\u001b[0m: 'str' object does not support item assignment"
     ]
    }
   ],
   "source": [
    "str1[0]='N'\n",
    "print(str1[0])"
   ]
  },
  {
   "cell_type": "code",
   "execution_count": 26,
   "id": "7e56a892-f9ee-4128-a80a-73aa2a667222",
   "metadata": {},
   "outputs": [
    {
     "name": "stdout",
     "output_type": "stream",
     "text": [
      "D\n"
     ]
    }
   ],
   "source": [
    "print(str1[0])"
   ]
  },
  {
   "cell_type": "code",
   "execution_count": null,
   "id": "2429bfd1-2249-4e66-8ba3-5001d8393c4a",
   "metadata": {},
   "outputs": [],
   "source": []
  }
 ],
 "metadata": {
  "kernelspec": {
   "display_name": "Python 3 (ipykernel)",
   "language": "python",
   "name": "python3"
  },
  "language_info": {
   "codemirror_mode": {
    "name": "ipython",
    "version": 3
   },
   "file_extension": ".py",
   "mimetype": "text/x-python",
   "name": "python",
   "nbconvert_exporter": "python",
   "pygments_lexer": "ipython3",
   "version": "3.10.8"
  }
 },
 "nbformat": 4,
 "nbformat_minor": 5
}
