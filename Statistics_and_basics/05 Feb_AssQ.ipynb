{
 "cells": [
  {
   "cell_type": "code",
   "execution_count": 2,
   "id": "397334c4",
   "metadata": {},
   "outputs": [],
   "source": [
    "# # Explain Class and Object with respect to Object-Oriented Programming. Give a suitable example.\n",
    "# Python class contains set of object which shares common characteristics/ behavior and common properties/ attributes.\n",
    "# An object is simply a collection of data (variables) and methods (functions). \n",
    "# A class is a blueprint for that object.An Object is an instance of a Class."
   ]
  },
  {
   "cell_type": "code",
   "execution_count": 3,
   "id": "4d5dd737",
   "metadata": {},
   "outputs": [],
   "source": [
    "# # Name the four pillars of OOPs.\n",
    "\n",
    "# The Four Pillars of Object Oriented Programming\n",
    "# 1. Abstraction.\n",
    "# 2. Encapsulation.\n",
    "# 3. Inheritance.\n",
    "# 4. Polymorphism."
   ]
  },
  {
   "cell_type": "code",
   "execution_count": 4,
   "id": "40135c54",
   "metadata": {},
   "outputs": [
    {
     "name": "stdout",
     "output_type": "stream",
     "text": [
      "John\n",
      "36\n"
     ]
    }
   ],
   "source": [
    "# # Explain why the __init__() function is used. Give a suitable example.\n",
    "\n",
    "# Constructors are generally used for instantiating an object.\n",
    "# The __init__ function is called every time an object is created from a class.\n",
    "\n",
    "\n",
    "\n",
    "\n",
    "class Person:\n",
    "  def  __init__(self, name, age):\n",
    "    self.name = name\n",
    "    self.age = age\n",
    "\n",
    "p1 = Person(\"John\", 36)\n",
    "\n",
    "print(p1.name)\n",
    "print(p1.age)"
   ]
  },
  {
   "cell_type": "code",
   "execution_count": 5,
   "id": "506df8d1",
   "metadata": {},
   "outputs": [],
   "source": [
    "# #Why self is used in OOPs?\n",
    "\n",
    "# #The \"self\" variable is used to represent the instance of the class which is often used in object-oriented programming. \n",
    "# #It works as a reference to the object. Python uses the self parameter to refer to instance attributes and methods of the class.\n",
    "\n",
    "# # What is inheritance? Give an example for each type of inheritance."
   ]
  },
  {
   "cell_type": "code",
   "execution_count": 6,
   "id": "af656ef6",
   "metadata": {},
   "outputs": [],
   "source": [
    "#Inheritance allows us to define a class that inherits all the methods and properties from another class.\n",
    "class Person:\n",
    "  def __init__(self, fname, lname):\n",
    "    self.firstname = fname\n",
    "    self.lastname = lname\n",
    "\n",
    "  def printname(self):\n",
    "    print(self.firstname, self.lastname)\n",
    "\n",
    "class Student(Person):\n",
    "  pass"
   ]
  },
  {
   "cell_type": "code",
   "execution_count": 7,
   "id": "6bb77059",
   "metadata": {},
   "outputs": [
    {
     "name": "stdout",
     "output_type": "stream",
     "text": [
      "Mike Olsen\n"
     ]
    }
   ],
   "source": [
    "x = Student(\"Mike\", \"Olsen\")\n",
    "x.printname()"
   ]
  },
  {
   "cell_type": "code",
   "execution_count": null,
   "id": "bde2874a",
   "metadata": {},
   "outputs": [],
   "source": []
  },
  {
   "cell_type": "code",
   "execution_count": null,
   "id": "cb4a5ed7",
   "metadata": {},
   "outputs": [],
   "source": []
  }
 ],
 "metadata": {
  "kernelspec": {
   "display_name": "Python 3 (ipykernel)",
   "language": "python",
   "name": "python3"
  },
  "language_info": {
   "codemirror_mode": {
    "name": "ipython",
    "version": 3
   },
   "file_extension": ".py",
   "mimetype": "text/x-python",
   "name": "python",
   "nbconvert_exporter": "python",
   "pygments_lexer": "ipython3",
   "version": "3.11.4"
  }
 },
 "nbformat": 4,
 "nbformat_minor": 5
}
