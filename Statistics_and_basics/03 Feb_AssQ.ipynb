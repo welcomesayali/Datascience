{
 "cells": [
  {
   "cell_type": "code",
   "execution_count": 2,
   "id": "aa12608d",
   "metadata": {},
   "outputs": [
    {
     "name": "stdout",
     "output_type": "stream",
     "text": [
      "1 3 5 7 9 11 13 15 17 19 21 23 25 "
     ]
    }
   ],
   "source": [
    "#def is used to create a function\n",
    "def odd_nums(start,end):\n",
    "    if start>end:\n",
    "        return\n",
    "    print(start,end=\" \")\n",
    "    return odd_nums(start+2,end)\n",
    "start=1;end=25\n",
    "odd_nums(start,end)"
   ]
  },
  {
   "cell_type": "code",
   "execution_count": null,
   "id": "31c57af5",
   "metadata": {},
   "outputs": [],
   "source": [
    "# We use *args and **kargs as an argument when we are unsure about the number of arguments to pass in the functions.\n",
    "# For *args --> allows us to pass variable length argument list.Tuple opertion can be performed.\n",
    "# For **kargs --> it allows us to pass the variable length of \"keyword\" arguments to the function.Arguments are passed a dictionary"
   ]
  },
  {
   "cell_type": "code",
   "execution_count": 3,
   "id": "a1964626",
   "metadata": {},
   "outputs": [
    {
     "name": "stdout",
     "output_type": "stream",
     "text": [
      "Sum: 8\n",
      "Sum: 22\n",
      "Sum: 17\n"
     ]
    }
   ],
   "source": [
    "# *args example :here passed 3 different tuples as argument and prints the results\n",
    "def adder(*num):\n",
    "    sum = 0\n",
    "    \n",
    "    for n in num:\n",
    "        sum = sum + n\n",
    "\n",
    "    print(\"Sum:\",sum)\n",
    "\n",
    "adder(3,5)\n",
    "adder(4,5,6,7)\n",
    "adder(1,2,3,5,6)"
   ]
  },
  {
   "cell_type": "code",
   "execution_count": 4,
   "id": "9cc342ce",
   "metadata": {},
   "outputs": [],
   "source": [
    "\n",
    "# **kargs example :#return a key and value pair where value is list\n",
    "def test12(**xyz):\n",
    "    for i in xyz.keys():\n",
    "        if type(xyz[i])==list:\n",
    "            return i ,xyz[i]"
   ]
  },
  {
   "cell_type": "code",
   "execution_count": 5,
   "id": "b33cbe3f",
   "metadata": {},
   "outputs": [
    {
     "data": {
      "text/plain": [
       "('d', [1, 2, 3, 4])"
      ]
     },
     "execution_count": 5,
     "metadata": {},
     "output_type": "execute_result"
    }
   ],
   "source": [
    "test12(a=1,b=\"saya\",c=\"data science\",d=[1,2,3,4],e=(1,2,3))"
   ]
  },
  {
   "cell_type": "code",
   "execution_count": null,
   "id": "afdaaa72",
   "metadata": {},
   "outputs": [],
   "source": [
    "# Iterators are methods that iterate collections like lists, tuples, etc.Using an iterator method, we can loop through an object and return its elements.\n",
    "# Iter() and next() are the methods used to initialise the iterator object."
   ]
  },
  {
   "cell_type": "code",
   "execution_count": 6,
   "id": "072be4f2",
   "metadata": {},
   "outputs": [
    {
     "name": "stdout",
     "output_type": "stream",
     "text": [
      "2\n",
      "4\n",
      "6\n",
      "8\n",
      "10\n"
     ]
    }
   ],
   "source": [
    "#To print the first five elements of the given list [2, 4, 6, 8, 10, 12, 14, 16,18, 20] using Iterator methods:\n",
    "\n",
    "my_list = [2, 4, 6, 8, 10, 12, 14, 16,18, 20] # define a list\n",
    "iterator = iter(my_list)# create an iterator from the list\n",
    "print(next(iterator))# fetch the first element of the iterator\n",
    "print(next(iterator))\n",
    "print(next(iterator))\n",
    "print(next(iterator))\n",
    "print(next(iterator))"
   ]
  },
  {
   "cell_type": "code",
   "execution_count": null,
   "id": "6b37b98d",
   "metadata": {},
   "outputs": [],
   "source": [
    "# #What is a generator function in python? Why yield keyword is used? Give an example of a generator\n",
    "# A Generator is a function that returns an iterator, that produces a sequence of values when iterated over.\n",
    "# Generators are useful when we want to produce a large sequence of values, but we don't want to store all of them in memory at once.\n",
    "# Whenever the generator function is called, it does not execute the function body immediately. Instead, it returns a generator object that can be iterated over to produce the values.\n",
    "# \n",
    "# \"Yield\" keyword is used to produce a value from the generator.Instead of \"Return\" statement ,we use \"yield\" statement in generators"
   ]
  },
  {
   "cell_type": "code",
   "execution_count": 7,
   "id": "d3ce60e9",
   "metadata": {},
   "outputs": [
    {
     "name": "stdout",
     "output_type": "stream",
     "text": [
      "0\n",
      "1\n",
      "1\n",
      "2\n",
      "3\n",
      "5\n",
      "8\n",
      "13\n",
      "21\n",
      "34\n"
     ]
    }
   ],
   "source": [
    "#example of generator function:\n",
    "def test_fib(n):\n",
    "    a,b=0,1\n",
    "    for i in range(n):\n",
    "        yield a\n",
    "        a,b=b ,a+b\n",
    "        \n",
    "for i in test_fib(10):\n",
    "    print(i)"
   ]
  },
  {
   "cell_type": "code",
   "execution_count": 8,
   "id": "a974737e",
   "metadata": {},
   "outputs": [
    {
     "data": {
      "text/plain": [
       "<generator object test_fib at 0x00000206919CDD50>"
      ]
     },
     "execution_count": 8,
     "metadata": {},
     "output_type": "execute_result"
    }
   ],
   "source": [
    "test_fib(2)"
   ]
  },
  {
   "cell_type": "code",
   "execution_count": 9,
   "id": "928e0d3c",
   "metadata": {},
   "outputs": [
    {
     "name": "stdout",
     "output_type": "stream",
     "text": [
      "2\n",
      "3\n",
      "5\n",
      "7\n",
      "11\n",
      "13\n",
      "17\n",
      "19\n",
      "23\n",
      "29\n",
      "31\n",
      "37\n",
      "41\n",
      "43\n",
      "47\n",
      "53\n",
      "59\n",
      "61\n",
      "67\n",
      "71\n"
     ]
    }
   ],
   "source": [
    "#Create a generator function for prime numbers less than 1000. Use the next() method to print the\n",
    "#first 20 prime numbers.\n",
    "\n",
    "from math import sqrt\n",
    "\n",
    "def is_prime(n):\n",
    "    if (n <= 1):\n",
    "        return False\n",
    "    if (n == 2):\n",
    "        return True\n",
    "    if (n % 2 == 0):\n",
    "        return False\n",
    "\n",
    "    i = 3\n",
    "    while i <= sqrt(n):\n",
    "        if n % i == 0:\n",
    "            return False\n",
    "        i = i + 2\n",
    "    return True\n",
    "\n",
    "def prime_generator(limit=1000):\n",
    "    n = 2\n",
    "    while True:\n",
    "        if n<limit:\n",
    "            if is_prime(n):\n",
    "                yield n\n",
    "            n += 1\n",
    "        else:\n",
    "            break\n",
    "generator = prime_generator()\n",
    "\n",
    "for i in range(20):\n",
    "    print(next(generator))\n"
   ]
  },
  {
   "cell_type": "code",
   "execution_count": null,
   "id": "0bdbf5dd",
   "metadata": {},
   "outputs": [],
   "source": []
  },
  {
   "cell_type": "code",
   "execution_count": null,
   "id": "44303055",
   "metadata": {},
   "outputs": [],
   "source": []
  }
 ],
 "metadata": {
  "kernelspec": {
   "display_name": "Python 3 (ipykernel)",
   "language": "python",
   "name": "python3"
  },
  "language_info": {
   "codemirror_mode": {
    "name": "ipython",
    "version": 3
   },
   "file_extension": ".py",
   "mimetype": "text/x-python",
   "name": "python",
   "nbconvert_exporter": "python",
   "pygments_lexer": "ipython3",
   "version": "3.11.4"
  }
 },
 "nbformat": 4,
 "nbformat_minor": 5
}
