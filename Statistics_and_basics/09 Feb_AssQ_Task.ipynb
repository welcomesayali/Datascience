{
 "cells": [
  {
   "cell_type": "code",
   "execution_count": 2,
   "id": "32840f01",
   "metadata": {},
   "outputs": [],
   "source": [
    "# # Create a vehicle class with an init method having instance variables as name_of_vehicle, max_speed and average_of_vehicle. \n",
    "\n",
    "# In[3]:\n",
    "\n",
    "\n",
    "class vehicle:\n",
    "    def __init__(self,name_of_vehicle, max_speed,average_of_vehicle):\n",
    "        self.name =name_of_vehicle\n",
    "        self.speed =max_speed\n",
    "        self.average=average_of_vehicle"
   ]
  },
  {
   "cell_type": "code",
   "execution_count": 3,
   "id": "1b8349b1",
   "metadata": {},
   "outputs": [
    {
     "data": {
      "text/plain": [
       "'tata'"
      ]
     },
     "execution_count": 3,
     "metadata": {},
     "output_type": "execute_result"
    }
   ],
   "source": [
    "x =vehicle(\"tata\",25,20)\n",
    "x.name"
   ]
  },
  {
   "cell_type": "code",
   "execution_count": 4,
   "id": "013e7648",
   "metadata": {},
   "outputs": [],
   "source": [
    "\n",
    "#  # Create a child class car from the vehicle class created in Que 1, which will inherit the vehicle class.\n",
    "# # Create a method named seating_capacity which takes capacity as an argument and returns the name of the vehicle and its seating capacity.\n",
    "\n",
    "class car(vehicle):\n",
    "    def seating_capacity(self, capacity):\n",
    "        return f\" {self.name}  {capacity}\""
   ]
  },
  {
   "cell_type": "code",
   "execution_count": 5,
   "id": "4f88d233",
   "metadata": {},
   "outputs": [
    {
     "data": {
      "text/plain": [
       "' tata  85'"
      ]
     },
     "execution_count": 5,
     "metadata": {},
     "output_type": "execute_result"
    }
   ],
   "source": [
    "x = car(\"tata\",\"45 mph\",\"15 kmph\")\n",
    "x.seating_capacity(85)"
   ]
  },
  {
   "cell_type": "code",
   "execution_count": 6,
   "id": "186fc731",
   "metadata": {},
   "outputs": [],
   "source": [
    "# # What is multiple inheritance? Write a python code to demonstrate multiple inheritance\n",
    "\n",
    "# A class can be derived from more than one superclass in Python.This is called multiple inheritance"
   ]
  },
  {
   "cell_type": "code",
   "execution_count": 7,
   "id": "9c63a7ab",
   "metadata": {},
   "outputs": [
    {
     "name": "stdout",
     "output_type": "stream",
     "text": [
      "This is derived class\n",
      "This is super class A\n",
      "This is super class B\n"
     ]
    }
   ],
   "source": [
    "class A:\n",
    "    def A_info(self):\n",
    "        print(\"This is super class A\")\n",
    "        \n",
    "class B:\n",
    "    def B_info(self):\n",
    "        print(\"This is super class B\")\n",
    "        \n",
    "class C(A,B):\n",
    "    print(\"This is derived class\")\n",
    "    \n",
    "info=C()\n",
    "\n",
    "info.A_info()\n",
    "info.B_info()"
   ]
  },
  {
   "cell_type": "code",
   "execution_count": 9,
   "id": "7774ff1a",
   "metadata": {},
   "outputs": [],
   "source": [
    "# # What are getter and setter in python? Create a class and create a getter and a setter method in this class.\n",
    "#1.The main purpose of using getters and setters in object-oriented programs is to ensure data encapsulation.\n",
    "#2.We use getters & setters to add validation logic around getting and setting a value.\n",
    "#3.To avoid direct access of a class field i.e. private variables cannot be accessed directly or modified by external user.\n",
    "#4. This can be achieved using  property() function.There is one more way to implement property function i.e. by using decorator. Python @property is one of the built-in decorators.Here , the main purpose of any decorator is to change your class methods or attributes in such a way so that the user of the class need not make any changes in the code"
   ]
  },
  {
   "cell_type": "code",
   "execution_count": 10,
   "id": "68d91517",
   "metadata": {},
   "outputs": [
    {
     "name": "stdout",
     "output_type": "stream",
     "text": [
      "setter method called\n",
      "getter method called\n",
      "19\n"
     ]
    }
   ],
   "source": [
    "\n",
    "class Geeks:\n",
    "    def __init__(self):\n",
    "        self._age = 0\n",
    "       \n",
    "     # using property decorator\n",
    "     # a getter function\n",
    "    @property\n",
    "    def age(self):\n",
    "        print(\"getter method called\")\n",
    "        return self._age\n",
    "       \n",
    "     # a setter function\n",
    "    @age.setter\n",
    "    def age(self, a):\n",
    "        if(a < 18):\n",
    "            raise ValueError(\"Sorry you age is below eligibility criteria\")\n",
    "        print(\"setter method called\")\n",
    "        self._age = a\n",
    "\n",
    "mark = Geeks()\n",
    "  \n",
    "mark.age = 19\n",
    "  \n",
    "print(mark.age)"
   ]
  },
  {
   "cell_type": "code",
   "execution_count": 11,
   "id": "1f6bf98d",
   "metadata": {},
   "outputs": [],
   "source": [
    "# What is method overriding in python? Write a python code to demonstrate method overriding.\n",
    "\n",
    "#When a method in a subclass has the same name, same parameters or signature and same return type(or sub-type) as a method in its super-class, \n",
    "#then the method in the subclass is said to override the method in the super-class."
   ]
  },
  {
   "cell_type": "code",
   "execution_count": 12,
   "id": "d6fd494d",
   "metadata": {},
   "outputs": [
    {
     "name": "stdout",
     "output_type": "stream",
     "text": [
      "Inside Parent\n",
      "Inside Child\n"
     ]
    }
   ],
   "source": [
    "\n",
    "# Defining parent class\n",
    "class Parent():\n",
    "      \n",
    "    # Constructor\n",
    "    def __init__(self):\n",
    "        self.value = \"Inside Parent\"\n",
    "          \n",
    "    # Parent's show method\n",
    "    def show(self):\n",
    "        print(self.value)\n",
    "          \n",
    "# Defining child class\n",
    "class Child(Parent):\n",
    "      \n",
    "    # Constructor\n",
    "    def __init__(self):\n",
    "        self.value = \"Inside Child\"\n",
    "          \n",
    "    # Child's show method\n",
    "    def show(self):\n",
    "        print(self.value)\n",
    "          \n",
    "          \n",
    "obj1 = Parent()\n",
    "obj2 = Child()\n",
    "  \n",
    "obj1.show()\n",
    "obj2.show()"
   ]
  },
  {
   "cell_type": "code",
   "execution_count": null,
   "id": "ef7c0630",
   "metadata": {},
   "outputs": [],
   "source": []
  }
 ],
 "metadata": {
  "kernelspec": {
   "display_name": "Python 3 (ipykernel)",
   "language": "python",
   "name": "python3"
  },
  "language_info": {
   "codemirror_mode": {
    "name": "ipython",
    "version": 3
   },
   "file_extension": ".py",
   "mimetype": "text/x-python",
   "name": "python",
   "nbconvert_exporter": "python",
   "pygments_lexer": "ipython3",
   "version": "3.11.4"
  }
 },
 "nbformat": 4,
 "nbformat_minor": 5
}
