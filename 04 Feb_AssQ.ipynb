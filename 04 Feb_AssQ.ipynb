{
 "cells": [
  {
   "cell_type": "code",
   "execution_count": 1,
   "id": "96b88e5c",
   "metadata": {},
   "outputs": [],
   "source": [
    "\n",
    "# Create a python program to sort the given list of tuples based on integer value using a\n",
    "#lambda function: [('Sachin Tendulkar', 34357), ('Ricky Ponting', 27483), ('Jack Kallis', 25534), ('Virat Kohli', 24936)]\n",
    "list_x=[('Sachin Tendulkar', 34357), ('Ricky Ponting', 27483), ('Jack Kallis', 25534), ('Virat Kohli', 24936)]"
   ]
  },
  {
   "cell_type": "code",
   "execution_count": 2,
   "id": "d9f04fef",
   "metadata": {},
   "outputs": [
    {
     "name": "stdout",
     "output_type": "stream",
     "text": [
      "[('Virat Kohli', 24936), ('Jack Kallis', 25534), ('Ricky Ponting', 27483), ('Sachin Tendulkar', 34357)]\n"
     ]
    }
   ],
   "source": [
    "\n",
    "list_x.sort(key = lambda a:a[1])\n",
    "print(list_x)"
   ]
  },
  {
   "cell_type": "code",
   "execution_count": 3,
   "id": "a1f05d0a",
   "metadata": {},
   "outputs": [],
   "source": [
    "\n",
    "#Write a Python Program to find the squares of all the numbers in the given list of integers using\n",
    "#lambda and map functions.\n",
    "list_y=[1, 2, 3, 4, 5, 6, 7, 8, 9, 10]"
   ]
  },
  {
   "cell_type": "code",
   "execution_count": 4,
   "id": "572f8243",
   "metadata": {},
   "outputs": [
    {
     "data": {
      "text/plain": [
       "[1, 4, 9, 16, 25, 36, 49, 64, 81, 100]"
      ]
     },
     "execution_count": 4,
     "metadata": {},
     "output_type": "execute_result"
    }
   ],
   "source": [
    "\n",
    "list(map(lambda a: a**2, list_y))\n"
   ]
  },
  {
   "cell_type": "code",
   "execution_count": 5,
   "id": "830d2b17",
   "metadata": {},
   "outputs": [
    {
     "data": {
      "text/plain": [
       "[1, 4, 9, 16, 25, 36, 49, 64, 81, 100]"
      ]
     },
     "execution_count": 5,
     "metadata": {},
     "output_type": "execute_result"
    }
   ],
   "source": [
    "\n",
    "list(map(lambda a: a**2, list_y))"
   ]
  },
  {
   "cell_type": "code",
   "execution_count": 6,
   "id": "1dbd7303",
   "metadata": {},
   "outputs": [],
   "source": [
    "# Write a python program to convert the given list of integers into a tuple of strings. Use map and lambda functions\n",
    "\n",
    "list_z= [1, 2, 3, 4, 5, 6, 7, 8, 9, 10]"
   ]
  },
  {
   "cell_type": "code",
   "execution_count": 7,
   "id": "81beed1f",
   "metadata": {},
   "outputs": [
    {
     "data": {
      "text/plain": [
       "('1', '2', '3', '4', '5', '6', '7', '8', '9', '10')"
      ]
     },
     "execution_count": 7,
     "metadata": {},
     "output_type": "execute_result"
    }
   ],
   "source": [
    "tuple(map(lambda x:str(x),list_z))"
   ]
  },
  {
   "cell_type": "code",
   "execution_count": 8,
   "id": "166d1fab",
   "metadata": {},
   "outputs": [],
   "source": [
    "# Write a python program using reduce function to compute the product of a list containing numbers from 1 to 25\n",
    "from functools import reduce\n",
    "list_t=[1,2,3,4,5,6,7,8,9,10,11,12,13,14,15,16,17,18,19,20,21,22,23,24,25]"
   ]
  },
  {
   "cell_type": "code",
   "execution_count": 9,
   "id": "5a228cf2",
   "metadata": {},
   "outputs": [
    {
     "data": {
      "text/plain": [
       "15511210043330985984000000"
      ]
     },
     "execution_count": 9,
     "metadata": {},
     "output_type": "execute_result"
    }
   ],
   "source": [
    "reduce(lambda x,y:x*y,list_t)"
   ]
  },
  {
   "cell_type": "code",
   "execution_count": 10,
   "id": "9bc0faee",
   "metadata": {},
   "outputs": [],
   "source": [
    "# Write a python program to filter the numbers in a given list that are divisible by 2 and 3 using the\n",
    "#filter function\n",
    "list_s=[2, 3, 6, 9, 27, 60, 90, 120, 55, 46]"
   ]
  },
  {
   "cell_type": "code",
   "execution_count": 11,
   "id": "69d375fa",
   "metadata": {},
   "outputs": [
    {
     "data": {
      "text/plain": [
       "[6, 60, 90, 120]"
      ]
     },
     "execution_count": 11,
     "metadata": {},
     "output_type": "execute_result"
    }
   ],
   "source": [
    "list(filter(lambda x:x%2==0 and x%3==0,list_s))"
   ]
  },
  {
   "cell_type": "code",
   "execution_count": 12,
   "id": "1cfbe22d",
   "metadata": {},
   "outputs": [],
   "source": [
    "#Write a python program to find palindromes in the given list of strings using lambda and filter\n",
    "#function.\n",
    "list_p=['python', 'php', 'aba', 'radar', 'level']"
   ]
  },
  {
   "cell_type": "code",
   "execution_count": 13,
   "id": "9391c7af",
   "metadata": {},
   "outputs": [
    {
     "data": {
      "text/plain": [
       "['php', 'aba', 'radar', 'level']"
      ]
     },
     "execution_count": 13,
     "metadata": {},
     "output_type": "execute_result"
    }
   ],
   "source": [
    "list(filter(lambda x: x==x[::-1],list_p))\n"
   ]
  },
  {
   "cell_type": "code",
   "execution_count": null,
   "id": "a160887a",
   "metadata": {},
   "outputs": [],
   "source": []
  },
  {
   "cell_type": "code",
   "execution_count": null,
   "id": "6731b755",
   "metadata": {},
   "outputs": [],
   "source": []
  }
 ],
 "metadata": {
  "kernelspec": {
   "display_name": "Python 3 (ipykernel)",
   "language": "python",
   "name": "python3"
  },
  "language_info": {
   "codemirror_mode": {
    "name": "ipython",
    "version": 3
   },
   "file_extension": ".py",
   "mimetype": "text/x-python",
   "name": "python",
   "nbconvert_exporter": "python",
   "pygments_lexer": "ipython3",
   "version": "3.11.4"
  }
 },
 "nbformat": 4,
 "nbformat_minor": 5
}
