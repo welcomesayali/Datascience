{
 "cells": [
  {
   "cell_type": "code",
   "execution_count": 1,
   "id": "f47cb271",
   "metadata": {},
   "outputs": [],
   "source": [
    "import pandas as pd\n",
    "import numpy as np\n",
    "import seaborn as sns\n",
    "import matplotlib.pyplot as plt"
   ]
  },
  {
   "cell_type": "code",
   "execution_count": 2,
   "id": "ffc44d43",
   "metadata": {},
   "outputs": [],
   "source": [
    "df = pd.read_excel('2021_anamolous.xlsx')"
   ]
  },
  {
   "cell_type": "code",
   "execution_count": 3,
   "id": "749a00ec",
   "metadata": {},
   "outputs": [
    {
     "data": {
      "text/html": [
       "<div>\n",
       "<style scoped>\n",
       "    .dataframe tbody tr th:only-of-type {\n",
       "        vertical-align: middle;\n",
       "    }\n",
       "\n",
       "    .dataframe tbody tr th {\n",
       "        vertical-align: top;\n",
       "    }\n",
       "\n",
       "    .dataframe thead th {\n",
       "        text-align: right;\n",
       "    }\n",
       "</style>\n",
       "<table border=\"1\" class=\"dataframe\">\n",
       "  <thead>\n",
       "    <tr style=\"text-align: right;\">\n",
       "      <th></th>\n",
       "      <th>UPI Banks</th>\n",
       "      <th>Volume (Mn) By Costumers</th>\n",
       "      <th>Value (Cr) by Costumers</th>\n",
       "      <th>Volume (Mn)</th>\n",
       "      <th>Value (Cr)</th>\n",
       "      <th>Month</th>\n",
       "      <th>Year</th>\n",
       "    </tr>\n",
       "  </thead>\n",
       "  <tbody>\n",
       "    <tr>\n",
       "      <th>0</th>\n",
       "      <td>Airtel Payments Bank Apps</td>\n",
       "      <td>9.04</td>\n",
       "      <td>-2248.49</td>\n",
       "      <td>15.12</td>\n",
       "      <td>5732.09</td>\n",
       "      <td>12</td>\n",
       "      <td>2021</td>\n",
       "    </tr>\n",
       "    <tr>\n",
       "      <th>1</th>\n",
       "      <td>Airtel Payments Bank Apps</td>\n",
       "      <td>8.41</td>\n",
       "      <td>-1923.95</td>\n",
       "      <td>15.90</td>\n",
       "      <td>5554.63</td>\n",
       "      <td>11</td>\n",
       "      <td>2021</td>\n",
       "    </tr>\n",
       "    <tr>\n",
       "      <th>2</th>\n",
       "      <td>Airtel Payments Bank Apps</td>\n",
       "      <td>7.60</td>\n",
       "      <td>-1491.34</td>\n",
       "      <td>14.31</td>\n",
       "      <td>4746.79</td>\n",
       "      <td>10</td>\n",
       "      <td>2021</td>\n",
       "    </tr>\n",
       "    <tr>\n",
       "      <th>3</th>\n",
       "      <td>Airtel Payments Bank Apps</td>\n",
       "      <td>6.91</td>\n",
       "      <td>1520.92</td>\n",
       "      <td>11.52</td>\n",
       "      <td>3759.12</td>\n",
       "      <td>9</td>\n",
       "      <td>2021</td>\n",
       "    </tr>\n",
       "    <tr>\n",
       "      <th>4</th>\n",
       "      <td>Airtel Payments Bank Apps</td>\n",
       "      <td>6.14</td>\n",
       "      <td>1396.65</td>\n",
       "      <td>9.31</td>\n",
       "      <td>2941.88</td>\n",
       "      <td>8</td>\n",
       "      <td>2021</td>\n",
       "    </tr>\n",
       "  </tbody>\n",
       "</table>\n",
       "</div>"
      ],
      "text/plain": [
       "                   UPI Banks  Volume (Mn) By Costumers  \\\n",
       "0  Airtel Payments Bank Apps                      9.04   \n",
       "1  Airtel Payments Bank Apps                      8.41   \n",
       "2  Airtel Payments Bank Apps                      7.60   \n",
       "3  Airtel Payments Bank Apps                      6.91   \n",
       "4  Airtel Payments Bank Apps                      6.14   \n",
       "\n",
       "   Value (Cr) by Costumers  Volume (Mn)  Value (Cr)  Month  Year  \n",
       "0                 -2248.49        15.12     5732.09     12  2021  \n",
       "1                 -1923.95        15.90     5554.63     11  2021  \n",
       "2                 -1491.34        14.31     4746.79     10  2021  \n",
       "3                  1520.92        11.52     3759.12      9  2021  \n",
       "4                  1396.65         9.31     2941.88      8  2021  "
      ]
     },
     "execution_count": 3,
     "metadata": {},
     "output_type": "execute_result"
    }
   ],
   "source": [
    "df.head()"
   ]
  },
  {
   "cell_type": "code",
   "execution_count": 4,
   "id": "2593350f",
   "metadata": {},
   "outputs": [
    {
     "data": {
      "text/plain": [
       "UPI Banks                   0\n",
       "Volume (Mn) By Costumers    0\n",
       "Value (Cr) by Costumers     0\n",
       "Volume (Mn)                 0\n",
       "Value (Cr)                  0\n",
       "Month                       0\n",
       "Year                        0\n",
       "dtype: int64"
      ]
     },
     "execution_count": 4,
     "metadata": {},
     "output_type": "execute_result"
    }
   ],
   "source": [
    "df.isnull().sum()"
   ]
  },
  {
   "cell_type": "code",
   "execution_count": 5,
   "id": "79df22ca",
   "metadata": {},
   "outputs": [
    {
     "data": {
      "text/html": [
       "<div>\n",
       "<style scoped>\n",
       "    .dataframe tbody tr th:only-of-type {\n",
       "        vertical-align: middle;\n",
       "    }\n",
       "\n",
       "    .dataframe tbody tr th {\n",
       "        vertical-align: top;\n",
       "    }\n",
       "\n",
       "    .dataframe thead th {\n",
       "        text-align: right;\n",
       "    }\n",
       "</style>\n",
       "<table border=\"1\" class=\"dataframe\">\n",
       "  <thead>\n",
       "    <tr style=\"text-align: right;\">\n",
       "      <th></th>\n",
       "      <th>Volume (Mn) By Costumers</th>\n",
       "      <th>Value (Cr) by Costumers</th>\n",
       "      <th>Volume (Mn)</th>\n",
       "      <th>Value (Cr)</th>\n",
       "      <th>Month</th>\n",
       "      <th>Year</th>\n",
       "    </tr>\n",
       "  </thead>\n",
       "  <tbody>\n",
       "    <tr>\n",
       "      <th>count</th>\n",
       "      <td>670.000000</td>\n",
       "      <td>670.000000</td>\n",
       "      <td>670.000000</td>\n",
       "      <td>670.000000</td>\n",
       "      <td>670.000000</td>\n",
       "      <td>670.0</td>\n",
       "    </tr>\n",
       "    <tr>\n",
       "      <th>mean</th>\n",
       "      <td>56.579239</td>\n",
       "      <td>10632.975851</td>\n",
       "      <td>59.018925</td>\n",
       "      <td>10868.796836</td>\n",
       "      <td>6.534328</td>\n",
       "      <td>2021.0</td>\n",
       "    </tr>\n",
       "    <tr>\n",
       "      <th>std</th>\n",
       "      <td>253.906680</td>\n",
       "      <td>48895.364346</td>\n",
       "      <td>255.741122</td>\n",
       "      <td>49021.381808</td>\n",
       "      <td>3.462529</td>\n",
       "      <td>0.0</td>\n",
       "    </tr>\n",
       "    <tr>\n",
       "      <th>min</th>\n",
       "      <td>0.010000</td>\n",
       "      <td>-6641.620000</td>\n",
       "      <td>0.010000</td>\n",
       "      <td>0.410000</td>\n",
       "      <td>1.000000</td>\n",
       "      <td>2021.0</td>\n",
       "    </tr>\n",
       "    <tr>\n",
       "      <th>25%</th>\n",
       "      <td>0.050000</td>\n",
       "      <td>17.495000</td>\n",
       "      <td>0.050000</td>\n",
       "      <td>19.810000</td>\n",
       "      <td>4.000000</td>\n",
       "      <td>2021.0</td>\n",
       "    </tr>\n",
       "    <tr>\n",
       "      <th>50%</th>\n",
       "      <td>0.215000</td>\n",
       "      <td>56.220000</td>\n",
       "      <td>0.215000</td>\n",
       "      <td>59.985000</td>\n",
       "      <td>7.000000</td>\n",
       "      <td>2021.0</td>\n",
       "    </tr>\n",
       "    <tr>\n",
       "      <th>75%</th>\n",
       "      <td>2.275000</td>\n",
       "      <td>366.667500</td>\n",
       "      <td>2.275000</td>\n",
       "      <td>380.912500</td>\n",
       "      <td>9.750000</td>\n",
       "      <td>2021.0</td>\n",
       "    </tr>\n",
       "    <tr>\n",
       "      <th>max</th>\n",
       "      <td>2077.600000</td>\n",
       "      <td>394565.580000</td>\n",
       "      <td>2077.600000</td>\n",
       "      <td>394565.580000</td>\n",
       "      <td>12.000000</td>\n",
       "      <td>2021.0</td>\n",
       "    </tr>\n",
       "  </tbody>\n",
       "</table>\n",
       "</div>"
      ],
      "text/plain": [
       "       Volume (Mn) By Costumers  Value (Cr) by Costumers  Volume (Mn)  \\\n",
       "count                670.000000               670.000000   670.000000   \n",
       "mean                  56.579239             10632.975851    59.018925   \n",
       "std                  253.906680             48895.364346   255.741122   \n",
       "min                    0.010000             -6641.620000     0.010000   \n",
       "25%                    0.050000                17.495000     0.050000   \n",
       "50%                    0.215000                56.220000     0.215000   \n",
       "75%                    2.275000               366.667500     2.275000   \n",
       "max                 2077.600000            394565.580000  2077.600000   \n",
       "\n",
       "          Value (Cr)       Month    Year  \n",
       "count     670.000000  670.000000   670.0  \n",
       "mean    10868.796836    6.534328  2021.0  \n",
       "std     49021.381808    3.462529     0.0  \n",
       "min         0.410000    1.000000  2021.0  \n",
       "25%        19.810000    4.000000  2021.0  \n",
       "50%        59.985000    7.000000  2021.0  \n",
       "75%       380.912500    9.750000  2021.0  \n",
       "max    394565.580000   12.000000  2021.0  "
      ]
     },
     "execution_count": 5,
     "metadata": {},
     "output_type": "execute_result"
    }
   ],
   "source": [
    "df.describe()"
   ]
  },
  {
   "cell_type": "code",
   "execution_count": 6,
   "id": "67ae4771",
   "metadata": {},
   "outputs": [
    {
     "data": {
      "text/plain": [
       "(670, 7)"
      ]
     },
     "execution_count": 6,
     "metadata": {},
     "output_type": "execute_result"
    }
   ],
   "source": [
    "df.shape"
   ]
  },
  {
   "cell_type": "code",
   "execution_count": 7,
   "id": "1657ab67",
   "metadata": {},
   "outputs": [
    {
     "data": {
      "text/plain": [
       "5.354257943902409"
      ]
     },
     "execution_count": 7,
     "metadata": {},
     "output_type": "execute_result"
    }
   ],
   "source": [
    "df['Value (Cr) by Costumers'].skew()"
   ]
  },
  {
   "cell_type": "code",
   "execution_count": 8,
   "id": "02e9394b",
   "metadata": {},
   "outputs": [
    {
     "data": {
      "image/png": "[encoded data removed]",
      "text/plain": [
       "<Figure size 1500x700 with 1 Axes>"
      ]
     },
     "metadata": {},
     "output_type": "display_data"
    }
   ],
   "source": [
    "Value_customer = df['Value (Cr) by Costumers']\n",
    "Month = df[\"Month\"]\n",
    "plt.figure(figsize=(15,7))\n",
    "plt.scatter(Month,Value_customer,c='b',s=50,marker=\"*\")\n",
    "plt.xticks(rotation=90)\n",
    "plt.tight_layout()\n",
    "plt.show()"
   ]
  },
  {
   "cell_type": "code",
   "execution_count": 9,
   "id": "e6f3f0c5",
   "metadata": {},
   "outputs": [
    {
     "data": {
      "image/png": "[encoded data removed]",
      "text/plain": [
       "<Figure size 640x480 with 4 Axes>"
      ]
     },
     "metadata": {},
     "output_type": "display_data"
    }
   ],
   "source": [
    "#Boxplot\n",
    "columns_to_plot = ['Volume (Mn) By Costumers', 'Value (Cr) by Costumers', 'Volume (Mn)', 'Value (Cr)']\n",
    "# Create the figure and two subplots\n",
    "fig, axes = plt.subplots(ncols=len(columns_to_plot))\n",
    "# Create the boxplot with Seaborn\n",
    "for column, axis in zip(columns_to_plot, axes):\n",
    "    sns.boxplot(data=df[column], ax=axis)\n",
    "    axis.set_title(column)\n",
    "# Show the plot\n",
    "plt.tight_layout()\n",
    "plt.show()"
   ]
  },
  {
   "cell_type": "code",
   "execution_count": 10,
   "id": "e238faaf",
   "metadata": {},
   "outputs": [
    {
     "data": {
      "image/png": "[encoded data removed]",
      "text/plain": [
       "<Figure size 640x480 with 1 Axes>"
      ]
     },
     "metadata": {},
     "output_type": "display_data"
    }
   ],
   "source": [
    "#df['Value (Cr) by Costumers_log']=np.log(df['Value (Cr) by Costumers'])\n",
    "fig,axis = plt.subplots()\n",
    "sns.boxplot(data=df['Value (Cr) by Costumers'],ax=axis)\n",
    "plt.show()"
   ]
  },
  {
   "cell_type": "code",
   "execution_count": 11,
   "id": "9e208235",
   "metadata": {},
   "outputs": [
    {
     "data": {
      "text/plain": [
       "0     -2248.49\n",
       "1     -1923.95\n",
       "2     -1491.34\n",
       "23    -6641.62\n",
       "158      -2.73\n",
       "220      -3.07\n",
       "221      -2.00\n",
       "222      -3.00\n",
       "223      -1.00\n",
       "224     -10.00\n",
       "225     -20.00\n",
       "252      -2.92\n",
       "370      -5.32\n",
       "388     -40.00\n",
       "389     -20.00\n",
       "390     -80.00\n",
       "391   -2000.00\n",
       "471   -4000.00\n",
       "525   -2000.00\n",
       "543      -0.41\n",
       "597     -15.36\n",
       "Name: Value (Cr) by Costumers, dtype: float64"
      ]
     },
     "execution_count": 11,
     "metadata": {},
     "output_type": "execute_result"
    }
   ],
   "source": [
    "#outliers made to null values\n",
    "Value_customer_1 = df['Value (Cr) by Costumers']\n",
    "#q1 = np.percentile(Value_customer_1, 25)\n",
    "#q3 = np.percentile(Value_customer_1,75)\n",
    "#iqr = q3-q1\n",
    "#max=q3+(1.5*iqr)\n",
    "#min=q1-(1.5*iqr)\n",
    "df.loc[df['Value (Cr) by Costumers'] < 0, 'Value (Cr) by Costumers']#= np.nan\n",
    "#df.loc[df['Value (Cr) by Costumers'] > max, 'Value (Cr) by Costumers'] = np.nan"
   ]
  },
  {
   "cell_type": "code",
   "execution_count": 12,
   "id": "4546beff",
   "metadata": {},
   "outputs": [
    {
     "data": {
      "text/plain": [
       "UPI Banks                   0\n",
       "Volume (Mn) By Costumers    0\n",
       "Value (Cr) by Costumers     0\n",
       "Volume (Mn)                 0\n",
       "Value (Cr)                  0\n",
       "Month                       0\n",
       "Year                        0\n",
       "dtype: int64"
      ]
     },
     "execution_count": 12,
     "metadata": {},
     "output_type": "execute_result"
    }
   ],
   "source": [
    "df.isnull().sum()"
   ]
  },
  {
   "cell_type": "code",
   "execution_count": 14,
   "id": "96a9f02b",
   "metadata": {},
   "outputs": [],
   "source": [
    "df['Value (Cr) by Costumers'] = df['Value (Cr) by Costumers'].astype(str).str.replace('-', '')\n",
    "#replacing negative values with postive"
   ]
  },
  {
   "cell_type": "code",
   "execution_count": 16,
   "id": "642df016",
   "metadata": {},
   "outputs": [
    {
     "data": {
      "text/plain": [
       "0"
      ]
     },
     "execution_count": 16,
     "metadata": {},
     "output_type": "execute_result"
    }
   ],
   "source": [
    "df['Value (Cr) by Costumers'].isnull().sum()"
   ]
  },
  {
   "cell_type": "code",
   "execution_count": 39,
   "id": "cb55213f",
   "metadata": {},
   "outputs": [],
   "source": [
    "df_1=df.dropna(axis=0)"
   ]
  },
  {
   "cell_type": "code",
   "execution_count": 40,
   "id": "dcf7db83",
   "metadata": {},
   "outputs": [
    {
     "data": {
      "text/plain": [
       "UPI Banks                   0\n",
       "Volume (Mn) By Costumers    0\n",
       "Value (Cr) by Costumers     0\n",
       "Volume (Mn)                 0\n",
       "Value (Cr)                  0\n",
       "Month                       0\n",
       "Year                        0\n",
       "dtype: int64"
      ]
     },
     "execution_count": 40,
     "metadata": {},
     "output_type": "execute_result"
    }
   ],
   "source": [
    "df_1.isnull().sum() #null removed"
   ]
  },
  {
   "cell_type": "code",
   "execution_count": 42,
   "id": "d1258c96",
   "metadata": {},
   "outputs": [],
   "source": [
    "#drop vs replace\n",
    "#applications"
   ]
  },
  {
   "cell_type": "code",
   "execution_count": null,
   "id": "80092dc0",
   "metadata": {},
   "outputs": [],
   "source": [
    "#Premliminary analysis"
   ]
  },
  {
   "cell_type": "code",
   "execution_count": null,
   "id": "1d53d50c",
   "metadata": {},
   "outputs": [],
   "source": []
  },
  {
   "cell_type": "code",
   "execution_count": null,
   "id": "11fdb644",
   "metadata": {},
   "outputs": [],
   "source": []
  }
 ],
 "metadata": {
  "kernelspec": {
   "display_name": "Python 3 (ipykernel)",
   "language": "python",
   "name": "python3"
  },
  "language_info": {
   "codemirror_mode": {
    "name": "ipython",
    "version": 3
   },
   "file_extension": ".py",
   "mimetype": "text/x-python",
   "name": "python",
   "nbconvert_exporter": "python",
   "pygments_lexer": "ipython3",
   "version": "3.11.4"
  }
 },
 "nbformat": 4,
 "nbformat_minor": 5
}
