{
 "cells": [
  {
   "cell_type": "markdown",
   "id": "73426dbd",
   "metadata": {},
   "source": [
    "Q1. What is a database? Differentiate between SQL and NoSQL databases.\n",
    "A database is an organized collection of data that allows for efficient storage, retrieval, and manipulation.\n",
    "\n",
    "Feature\tSQL (Relational DB)\tNoSQL (Non-relational DB)\n",
    "Data Model\tStructured (tables with rows and columns)\tFlexible (documents, key-value, etc.)\n",
    "Schema\tFixed schema\tDynamic schema\n",
    "Examples\tMySQL, PostgreSQL, Oracle\tMongoDB, Redis, Cassandra\n",
    "Query Language\tSQL\tVarious (e.g., MongoDB Query Language)\n",
    "Best for\tComplex queries, structured data\tUnstructured or rapidly changing data"
   ]
  },
  {
   "cell_type": "markdown",
   "id": "8228408e",
   "metadata": {},
   "source": [
    "Q2. What is DDL? Explain CREATE, DROP, ALTER, and TRUNCATE with an example.\n",
    "DDL stands for Data Definition Language. It is used to define or modify the structure of database objects.\n",
    "\n",
    "Command\tDescription\tExample\n",
    "CREATE\tCreates a new table or database\tCREATE TABLE students (id INT, name VARCHAR(100));\n",
    "DROP\tDeletes a table or database\tDROP TABLE students;\n",
    "ALTER\tModifies the structure of an existing table\tALTER TABLE students ADD age INT;\n",
    "TRUNCATE\tDeletes all records from a table (structure remains)\tTRUNCATE TABLE students;"
   ]
  },
  {
   "cell_type": "markdown",
   "id": "e712fae9",
   "metadata": {},
   "source": [
    "Q3. What is DML? Explain INSERT, UPDATE, and DELETE with an example.\n",
    "DML stands for Data Manipulation Language. It is used to manage data inside tables.\n",
    "\n",
    "Command\tDescription\tExample\n",
    "INSERT\tAdds new records\tINSERT INTO students (id, name) VALUES (1, 'Alice');\n",
    "UPDATE\tModifies existing data\tUPDATE students SET name = 'Bob' WHERE id = 1;\n",
    "DELETE\tRemoves records\tDELETE FROM students WHERE id = 1;"
   ]
  },
  {
   "cell_type": "markdown",
   "id": "45725483",
   "metadata": {},
   "source": [
    "Q4. What is DQL? Explain SELECT with an example.\n",
    "DQL stands for Data Query Language, mainly used to fetch data from the database.\n",
    "\n",
    "Command\tDescription\tExample\n",
    "SELECT\tRetrieves data\tSELECT name FROM students WHERE id = 1;"
   ]
  },
  {
   "cell_type": "markdown",
   "id": "4b7ac1b6",
   "metadata": {},
   "source": [
    "Q5. Explain Primary Key and Foreign Key.\n",
    "Key Type\tDescription\tExample\n",
    "Primary Key\tUniquely identifies each record in a table. Cannot be NULL.\tid INT PRIMARY KEY\n",
    "Foreign Key\tA field in one table that refers to the primary key in another table. Used to maintain referential integrity.\tstudent_id INT, FOREIGN KEY(student_id) REFERENCES students(id)"
   ]
  },
  {
   "cell_type": "markdown",
   "id": "4cf9919e",
   "metadata": {},
   "source": [
    "Q6. Write a Python code to connect MySQL to Python. Explain the cursor() and execute() methods.\n",
    "You need mysql-connector-python package:\n",
    "Install via pip: pip install mysql-connector-python"
   ]
  },
  {
   "cell_type": "code",
   "execution_count": 1,
   "id": "20ccd972",
   "metadata": {},
   "outputs": [
    {
     "ename": "ModuleNotFoundError",
     "evalue": "No module named 'mysql'",
     "output_type": "error",
     "traceback": [
      "\u001b[1;31m---------------------------------------------------------------------------\u001b[0m",
      "\u001b[1;31mModuleNotFoundError\u001b[0m                       Traceback (most recent call last)",
      "Cell \u001b[1;32mIn[1], line 1\u001b[0m\n\u001b[1;32m----> 1\u001b[0m \u001b[38;5;28;01mimport\u001b[39;00m \u001b[38;5;21;01mmysql\u001b[39;00m\u001b[38;5;21;01m.\u001b[39;00m\u001b[38;5;21;01mconnector\u001b[39;00m\n\u001b[0;32m      3\u001b[0m \u001b[38;5;66;03m# Establish connection\u001b[39;00m\n\u001b[0;32m      4\u001b[0m conn \u001b[38;5;241m=\u001b[39m mysql\u001b[38;5;241m.\u001b[39mconnector\u001b[38;5;241m.\u001b[39mconnect(\n\u001b[0;32m      5\u001b[0m     host\u001b[38;5;241m=\u001b[39m\u001b[38;5;124m\"\u001b[39m\u001b[38;5;124mlocalhost\u001b[39m\u001b[38;5;124m\"\u001b[39m,\n\u001b[0;32m      6\u001b[0m     user\u001b[38;5;241m=\u001b[39m\u001b[38;5;124m\"\u001b[39m\u001b[38;5;124mroot\u001b[39m\u001b[38;5;124m\"\u001b[39m,\n\u001b[0;32m      7\u001b[0m     password\u001b[38;5;241m=\u001b[39m\u001b[38;5;124m\"\u001b[39m\u001b[38;5;124myourpassword\u001b[39m\u001b[38;5;124m\"\u001b[39m,\n\u001b[0;32m      8\u001b[0m     database\u001b[38;5;241m=\u001b[39m\u001b[38;5;124m\"\u001b[39m\u001b[38;5;124mschool\u001b[39m\u001b[38;5;124m\"\u001b[39m\n\u001b[0;32m      9\u001b[0m )\n",
      "\u001b[1;31mModuleNotFoundError\u001b[0m: No module named 'mysql'"
     ]
    }
   ],
   "source": [
    "import mysql.connector\n",
    "\n",
    "# Establish connection\n",
    "conn = mysql.connector.connect(\n",
    "    host=\"localhost\",\n",
    "    user=\"root\",\n",
    "    password=\"yourpassword\",\n",
    "    database=\"school\"\n",
    ")\n",
    "\n",
    "# Create cursor object\n",
    "cur = conn.cursor()\n",
    "\n",
    "# Execute SQL command\n",
    "cur.execute(\"SELECT * FROM students\")\n",
    "\n",
    "# Fetch and print results\n",
    "for row in cur.fetchall():\n",
    "    print(row)\n",
    "\n",
    "# Close connection\n",
    "conn.close()\n"
   ]
  },
  {
   "cell_type": "markdown",
   "id": "e7841459",
   "metadata": {},
   "source": [
    "Q7. Order of Execution of SQL Clauses\n",
    "The SQL engine processes queries in the following order:\n",
    "\n",
    "FROM – Source tables\n",
    "\n",
    "JOIN – Combine tables\n",
    "\n",
    "WHERE – Filter rows\n",
    "\n",
    "GROUP BY – Group rows\n",
    "\n",
    "HAVING – Filter groups\n",
    "\n",
    "SELECT – Select columns\n",
    "\n",
    "ORDER BY – Sort the results\n",
    "\n",
    "LIMIT – Limit number of rows"
   ]
  },
  {
   "cell_type": "markdown",
   "id": "52284104",
   "metadata": {},
   "source": [
    "SELECT name, COUNT(*) \n",
    "FROM students \n",
    "WHERE age > 18 \n",
    "GROUP BY name \n",
    "HAVING COUNT(*) > 1 \n",
    "ORDER BY name;\n"
   ]
  },
  {
   "cell_type": "code",
   "execution_count": null,
   "id": "cf410138",
   "metadata": {},
   "outputs": [],
   "source": []
  }
 ],
 "metadata": {
  "kernelspec": {
   "display_name": "Python 3 (ipykernel)",
   "language": "python",
   "name": "python3"
  },
  "language_info": {
   "codemirror_mode": {
    "name": "ipython",
    "version": 3
   },
   "file_extension": ".py",
   "mimetype": "text/x-python",
   "name": "python",
   "nbconvert_exporter": "python",
   "pygments_lexer": "ipython3",
   "version": "3.11.4"
  }
 },
 "nbformat": 4,
 "nbformat_minor": 5
}
